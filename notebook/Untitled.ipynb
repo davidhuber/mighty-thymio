{
 "cells": [
  {
   "cell_type": "code",
   "execution_count": 1,
   "metadata": {},
   "outputs": [],
   "source": [
    "import rospy"
   ]
  },
  {
   "cell_type": "code",
   "execution_count": 15,
   "metadata": {},
   "outputs": [],
   "source": [
    "import rosnode\n",
    "import rostopic\n",
    "import rosgraph"
   ]
  },
  {
   "cell_type": "code",
   "execution_count": 4,
   "metadata": {},
   "outputs": [
    {
     "data": {
      "text/plain": [
       "['/robot_state_publisher',\n",
       " '/rosout',\n",
       " '/thymio',\n",
       " '/asebaros',\n",
       " '/camera',\n",
       " '/ups']"
      ]
     },
     "execution_count": 4,
     "metadata": {},
     "output_type": "execute_result"
    }
   ],
   "source": [
    "rosnode.get_node_names()"
   ]
  },
  {
   "cell_type": "code",
   "execution_count": 22,
   "metadata": {},
   "outputs": [],
   "source": [
    "import rospy"
   ]
  },
  {
   "cell_type": "code",
   "execution_count": 24,
   "metadata": {},
   "outputs": [],
   "source": [
    "rospy.init_node(\"TEST\")"
   ]
  },
  {
   "cell_type": "code",
   "execution_count": 26,
   "metadata": {},
   "outputs": [],
   "source": [
    "def got_message(msg):\n",
    "    rospy.loginfo(\"%s\", msg)"
   ]
  },
  {
   "cell_type": "code",
   "execution_count": 28,
   "metadata": {},
   "outputs": [
    {
     "data": {
      "text/plain": [
       "('sensor_msgs/Temperature', '/temperature', None)"
      ]
     },
     "execution_count": 28,
     "metadata": {},
     "output_type": "execute_result"
    }
   ],
   "source": [
    "rostopic.get_topic_type('/temperature')"
   ]
  },
  {
   "cell_type": "code",
   "execution_count": 30,
   "metadata": {},
   "outputs": [],
   "source": [
    "from sensor_msgs.msg import Temperature"
   ]
  },
  {
   "cell_type": "code",
   "execution_count": 27,
   "metadata": {},
   "outputs": [],
   "source": [
    "import std_msgs"
   ]
  },
  {
   "cell_type": "code",
   "execution_count": 31,
   "metadata": {},
   "outputs": [
    {
     "data": {
      "text/plain": [
       "<rospy.topics.Subscriber at 0xb07dbbd0>"
      ]
     },
     "execution_count": 31,
     "metadata": {},
     "output_type": "execute_result"
    },
    {
     "name": "stdout",
     "output_type": "stream",
     "text": [
      "[INFO] [1519215007.124366]: header: \n",
      "  seq: 1\n",
      "  stamp: \n",
      "    secs: 0\n",
      "    nsecs:         0\n",
      "  frame_id: \"base_link\"\n",
      "temperature: 31.8\n",
      "variance: 0.01\n",
      "[INFO] [1519215008.122613]: header: \n",
      "  seq: 2\n",
      "  stamp: \n",
      "    secs: 0\n",
      "    nsecs:         0\n",
      "  frame_id: \"base_link\"\n",
      "temperature: 31.8\n",
      "variance: 0.01\n",
      "[INFO] [1519215009.121415]: header: \n",
      "  seq: 3\n",
      "  stamp: \n",
      "    secs: 0\n",
      "    nsecs:         0\n",
      "  frame_id: \"base_link\"\n",
      "temperature: 31.7\n",
      "variance: 0.01\n",
      "[INFO] [1519215010.121886]: header: \n",
      "  seq: 4\n",
      "  stamp: \n",
      "    secs: 0\n",
      "    nsecs:         0\n",
      "  frame_id: \"base_link\"\n",
      "temperature: 31.8\n",
      "variance: 0.01\n",
      "[INFO] [1519215011.120601]: header: \n",
      "  seq: 5\n",
      "  stamp: \n",
      "    secs: 0\n",
      "    nsecs:         0\n",
      "  frame_id: \"base_link\"\n",
      "temperature: 31.8\n",
      "variance: 0.01\n",
      "[INFO] [1519215012.125323]: header: \n",
      "  seq: 6\n",
      "  stamp: \n",
      "    secs: 0\n",
      "    nsecs:         0\n",
      "  frame_id: \"base_link\"\n",
      "temperature: 31.9\n",
      "variance: 0.01\n",
      "[INFO] [1519215013.121610]: header: \n",
      "  seq: 7\n",
      "  stamp: \n",
      "    secs: 0\n",
      "    nsecs:         0\n",
      "  frame_id: \"base_link\"\n",
      "temperature: 31.8\n",
      "variance: 0.01\n",
      "[INFO] [1519215014.121588]: header: \n",
      "  seq: 8\n",
      "  stamp: \n",
      "    secs: 0\n",
      "    nsecs:         0\n",
      "  frame_id: \"base_link\"\n",
      "temperature: 31.8\n",
      "variance: 0.01\n",
      "[INFO] [1519215015.122292]: header: \n",
      "  seq: 9\n",
      "  stamp: \n",
      "    secs: 0\n",
      "    nsecs:         0\n",
      "  frame_id: \"base_link\"\n",
      "temperature: 31.8\n",
      "variance: 0.01\n",
      "[INFO] [1519215016.121333]: header: \n",
      "  seq: 10\n",
      "  stamp: \n",
      "    secs: 0\n",
      "    nsecs:         0\n",
      "  frame_id: \"base_link\"\n",
      "temperature: 31.9\n",
      "variance: 0.01\n",
      "[INFO] [1519215017.121454]: header: \n",
      "  seq: 11\n",
      "  stamp: \n",
      "    secs: 0\n",
      "    nsecs:         0\n",
      "  frame_id: \"base_link\"\n",
      "temperature: 32.0\n",
      "variance: 0.01\n",
      "[INFO] [1519215018.122205]: header: \n",
      "  seq: 12\n",
      "  stamp: \n",
      "    secs: 0\n",
      "    nsecs:         0\n",
      "  frame_id: \"base_link\"\n",
      "temperature: 32.0\n",
      "variance: 0.01\n",
      "[INFO] [1519215019.123201]: header: \n",
      "  seq: 13\n",
      "  stamp: \n",
      "    secs: 0\n",
      "    nsecs:         0\n",
      "  frame_id: \"base_link\"\n",
      "temperature: 31.8\n",
      "variance: 0.01\n",
      "[INFO] [1519215020.122425]: header: \n",
      "  seq: 14\n",
      "  stamp: \n",
      "    secs: 0\n",
      "    nsecs:         0\n",
      "  frame_id: \"base_link\"\n",
      "temperature: 32.0\n",
      "variance: 0.01\n",
      "[INFO] [1519215021.129495]: header: \n",
      "  seq: 15\n",
      "  stamp: \n",
      "    secs: 0\n",
      "    nsecs:         0\n",
      "  frame_id: \"base_link\"\n",
      "temperature: 31.9\n",
      "variance: 0.01\n"
     ]
    }
   ],
   "source": [
    "rospy.Subscriber('/temperature', Temperature, got_message)"
   ]
  },
  {
   "cell_type": "code",
   "execution_count": null,
   "metadata": {},
   "outputs": [],
   "source": []
  }
 ],
 "metadata": {
  "kernelspec": {
   "display_name": "Python 2",
   "language": "python",
   "name": "python2"
  },
  "language_info": {
   "codemirror_mode": {
    "name": "ipython",
    "version": 2
   },
   "file_extension": ".py",
   "mimetype": "text/x-python",
   "name": "python",
   "nbconvert_exporter": "python",
   "pygments_lexer": "ipython2",
   "version": "2.7.12"
  }
 },
 "nbformat": 4,
 "nbformat_minor": 2
}
