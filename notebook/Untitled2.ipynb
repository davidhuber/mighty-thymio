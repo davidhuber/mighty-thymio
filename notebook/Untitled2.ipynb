{
 "cells": [
  {
   "cell_type": "code",
   "execution_count": 1,
   "metadata": {},
   "outputs": [
    {
     "name": "stdout",
     "output_type": "stream",
     "text": [
      "Collecting docker-compose\n",
      "  Downloading docker_compose-1.19.0-py2.py3-none-any.whl (115kB)\n",
      "\u001b[K    100% |████████████████████████████████| 122kB 698kB/s ta 0:00:01\n",
      "\u001b[?25hCollecting docker<3.0,>=2.7.0 (from docker-compose)\n",
      "  Downloading docker-2.7.0-py2.py3-none-any.whl (119kB)\n",
      "\u001b[K    100% |████████████████████████████████| 122kB 973kB/s ta 0:00:01\n",
      "\u001b[?25hRequirement already satisfied (use --upgrade to upgrade): six<2,>=1.3.0 in /usr/lib/python2.7/dist-packages (from docker-compose)\n",
      "Collecting backports.ssl-match-hostname>=3.5; python_version < \"3.5\" (from docker-compose)\n",
      "  Downloading backports.ssl_match_hostname-3.5.0.1.tar.gz\n",
      "Requirement already satisfied (use --upgrade to upgrade): ipaddress>=1.0.16; python_version < \"3.3\" in /usr/lib/python2.7/dist-packages (from docker-compose)\n",
      "Requirement already satisfied (use --upgrade to upgrade): PyYAML<4,>=3.10 in /usr/lib/python2.7/dist-packages (from docker-compose)\n",
      "Requirement already satisfied (use --upgrade to upgrade): jsonschema<3,>=2.5.1 in /usr/local/lib/python2.7/dist-packages (from docker-compose)\n",
      "Collecting docopt<0.7,>=0.6.1 (from docker-compose)\n",
      "  Downloading docopt-0.6.2.tar.gz\n",
      "Collecting cached-property<2,>=1.2.0 (from docker-compose)\n",
      "  Downloading cached_property-1.3.1-py2.py3-none-any.whl\n",
      "Collecting requests!=2.11.0,!=2.12.2,!=2.18.0,<2.19,>=2.6.1 (from docker-compose)\n",
      "  Downloading requests-2.18.4-py2.py3-none-any.whl (88kB)\n",
      "\u001b[K    100% |████████████████████████████████| 92kB 1.3MB/s ta 0:00:011\n",
      "\u001b[?25hCollecting websocket-client<1.0,>=0.32.0 (from docker-compose)\n",
      "  Downloading websocket_client-0.46.0-py2.py3-none-any.whl (200kB)\n",
      "\u001b[K    100% |████████████████████████████████| 204kB 751kB/s ta 0:00:01\n",
      "\u001b[?25hRequirement already satisfied (use --upgrade to upgrade): enum34<2,>=1.0.4; python_version < \"3.4\" in /usr/lib/python2.7/dist-packages (from docker-compose)\n",
      "Collecting dockerpty<0.5,>=0.4.1 (from docker-compose)\n",
      "  Downloading dockerpty-0.4.1.tar.gz\n",
      "Collecting texttable<0.10,>=0.9.0 (from docker-compose)\n",
      "  Downloading texttable-0.9.1.tar.gz\n",
      "Collecting docker-pycreds>=0.2.1 (from docker<3.0,>=2.7.0->docker-compose)\n",
      "  Downloading docker_pycreds-0.2.2-py2.py3-none-any.whl\n",
      "Requirement already satisfied (use --upgrade to upgrade): functools32; python_version == \"2.7\" in /usr/local/lib/python2.7/dist-packages (from jsonschema<3,>=2.5.1->docker-compose)\n",
      "Collecting chardet<3.1.0,>=3.0.2 (from requests!=2.11.0,!=2.12.2,!=2.18.0,<2.19,>=2.6.1->docker-compose)\n",
      "  Downloading chardet-3.0.4-py2.py3-none-any.whl (133kB)\n",
      "\u001b[K    100% |████████████████████████████████| 143kB 701kB/s ta 0:00:01\n",
      "\u001b[?25hRequirement already satisfied (use --upgrade to upgrade): certifi>=2017.4.17 in /usr/local/lib/python2.7/dist-packages (from requests!=2.11.0,!=2.12.2,!=2.18.0,<2.19,>=2.6.1->docker-compose)\n",
      "Collecting urllib3<1.23,>=1.21.1 (from requests!=2.11.0,!=2.12.2,!=2.18.0,<2.19,>=2.6.1->docker-compose)\n",
      "  Downloading urllib3-1.22-py2.py3-none-any.whl (132kB)\n",
      "\u001b[K    100% |████████████████████████████████| 133kB 853kB/s ta 0:00:01\n",
      "\u001b[?25hCollecting idna<2.7,>=2.5 (from requests!=2.11.0,!=2.12.2,!=2.18.0,<2.19,>=2.6.1->docker-compose)\n",
      "  Downloading idna-2.6-py2.py3-none-any.whl (56kB)\n",
      "\u001b[K    100% |████████████████████████████████| 61kB 1.1MB/s ta 0:00:011\n",
      "\u001b[?25hBuilding wheels for collected packages: backports.ssl-match-hostname, docopt, dockerpty, texttable\n",
      "  Running setup.py bdist_wheel for backports.ssl-match-hostname ... \u001b[?25ldone\n",
      "\u001b[?25h  Stored in directory: /root/.cache/pip/wheels/5d/72/36/b2a31507b613967b728edc33378a5ff2ada0f62855b93c5ae1\n",
      "  Running setup.py bdist_wheel for docopt ... \u001b[?25ldone\n",
      "\u001b[?25h  Stored in directory: /root/.cache/pip/wheels/b2/16/5f/c33a2bb5f2dce71205f8e65cbfd05647d79d441282be31fd82\n",
      "  Running setup.py bdist_wheel for dockerpty ... \u001b[?25ldone\n",
      "\u001b[?25h  Stored in directory: /root/.cache/pip/wheels/ae/d5/14/a25cbb003bd70ffefba0fdfbd5a5c4ea4d2a11bde7736f7482\n",
      "  Running setup.py bdist_wheel for texttable ... \u001b[?25ldone\n",
      "\u001b[?25h  Stored in directory: /root/.cache/pip/wheels/9e/53/a3/e452dc385103ee8e1f0df7b3457974b580d52ce662ee5a16cc\n",
      "Successfully built backports.ssl-match-hostname docopt dockerpty texttable\n",
      "Installing collected packages: backports.ssl-match-hostname, websocket-client, docker-pycreds, chardet, urllib3, idna, requests, docker, docopt, cached-property, dockerpty, texttable, docker-compose\n",
      "  Found existing installation: idna 2.0\n",
      "    Not uninstalling idna at /usr/lib/python2.7/dist-packages, outside environment /usr\n",
      "Successfully installed backports.ssl-match-hostname-3.5.0.1 cached-property-1.3.1 chardet-3.0.4 docker-2.7.0 docker-compose-1.19.0 docker-pycreds-0.2.2 dockerpty-0.4.1 docopt-0.6.2 idna-2.6 requests-2.18.4 texttable-0.9.1 urllib3-1.22 websocket-client-0.46.0\n",
      "\u001b[33mYou are using pip version 8.1.1, however version 9.0.1 is available.\n",
      "You should consider upgrading via the 'pip install --upgrade pip' command.\u001b[0m\n"
     ]
    }
   ],
   "source": [
    "!pip install docker-compose"
   ]
  },
  {
   "cell_type": "code",
   "execution_count": 2,
   "metadata": {},
   "outputs": [],
   "source": [
    "import subprocess"
   ]
  },
  {
   "cell_type": "code",
   "execution_count": 4,
   "metadata": {},
   "outputs": [],
   "source": [
    "import docker"
   ]
  },
  {
   "cell_type": "code",
   "execution_count": 8,
   "metadata": {},
   "outputs": [],
   "source": [
    "c = docker.client.DockerClient()"
   ]
  },
  {
   "cell_type": "code",
   "execution_count": 30,
   "metadata": {},
   "outputs": [
    {
     "data": {
      "text/plain": [
       "{u'Architecture': u'armv7l',\n",
       " u'BridgeNfIp6tables': True,\n",
       " u'BridgeNfIptables': True,\n",
       " u'CPUSet': True,\n",
       " u'CPUShares': True,\n",
       " u'CgroupDriver': u'cgroupfs',\n",
       " u'ClusterAdvertise': u'',\n",
       " u'ClusterStore': u'',\n",
       " u'ContainerdCommit': {u'Expected': u'89623f28b87a6004d4b785663257362d1658a729',\n",
       "  u'ID': u'89623f28b87a6004d4b785663257362d1658a729'},\n",
       " u'Containers': 7,\n",
       " u'ContainersPaused': 0,\n",
       " u'ContainersRunning': 6,\n",
       " u'ContainersStopped': 1,\n",
       " u'CpuCfsPeriod': True,\n",
       " u'CpuCfsQuota': True,\n",
       " u'Debug': False,\n",
       " u'DefaultRuntime': u'runc',\n",
       " u'DockerRootDir': u'/var/lib/docker',\n",
       " u'Driver': u'aufs',\n",
       " u'DriverStatus': [[u'Root Dir', u'/var/lib/docker/aufs'],\n",
       "  [u'Backing Filesystem', u'extfs'],\n",
       "  [u'Dirs', u'75'],\n",
       "  [u'Dirperm1 Supported', u'true']],\n",
       " u'ExperimentalBuild': False,\n",
       " u'GenericResources': None,\n",
       " u'HttpProxy': u'',\n",
       " u'HttpsProxy': u'',\n",
       " u'ID': u'MKBQ:Z7BP:GEM5:CSEI:A6KJ:SYIS:6FPG:HQIR:GIPY:TVIR:4YAR:UCNK',\n",
       " u'IPv4Forwarding': True,\n",
       " u'Images': 6,\n",
       " u'IndexServerAddress': u'https://index.docker.io/v1/',\n",
       " u'InitBinary': u'docker-init',\n",
       " u'InitCommit': {u'Expected': u'949e6fa', u'ID': u'949e6fa'},\n",
       " u'Isolation': u'',\n",
       " u'KernelMemory': False,\n",
       " u'KernelVersion': u'3.10.107-192',\n",
       " u'Labels': [],\n",
       " u'LiveRestoreEnabled': False,\n",
       " u'LoggingDriver': u'json-file',\n",
       " u'MemTotal': 843190272,\n",
       " u'MemoryLimit': True,\n",
       " u'NCPU': 4,\n",
       " u'NEventsListener': 0,\n",
       " u'NFd': 62,\n",
       " u'NGoroutines': 77,\n",
       " u'Name': u'thymio21',\n",
       " u'NoProxy': u'',\n",
       " u'OSType': u'linux',\n",
       " u'OomKillDisable': True,\n",
       " u'OperatingSystem': u'Ubuntu 16.04.3 LTS',\n",
       " u'Plugins': {u'Authorization': None,\n",
       "  u'Log': [u'awslogs',\n",
       "   u'fluentd',\n",
       "   u'gcplogs',\n",
       "   u'gelf',\n",
       "   u'journald',\n",
       "   u'json-file',\n",
       "   u'logentries',\n",
       "   u'splunk',\n",
       "   u'syslog'],\n",
       "  u'Network': [u'bridge', u'host', u'macvlan', u'null', u'overlay'],\n",
       "  u'Volume': [u'local']},\n",
       " u'RegistryConfig': {u'AllowNondistributableArtifactsCIDRs': [],\n",
       "  u'AllowNondistributableArtifactsHostnames': [],\n",
       "  u'IndexConfigs': {u'docker.io': {u'Mirrors': [],\n",
       "    u'Name': u'docker.io',\n",
       "    u'Official': True,\n",
       "    u'Secure': True}},\n",
       "  u'InsecureRegistryCIDRs': [u'127.0.0.0/8'],\n",
       "  u'Mirrors': []},\n",
       " u'RuncCommit': {u'Expected': u'b2567b37d7b75eb4cf325b77297b140ea686ce8f',\n",
       "  u'ID': u'b2567b37d7b75eb4cf325b77297b140ea686ce8f'},\n",
       " u'Runtimes': {u'runc': {u'path': u'docker-runc'}},\n",
       " u'SecurityOptions': [u'name=apparmor'],\n",
       " u'ServerVersion': u'17.12.0-ce',\n",
       " u'SwapLimit': True,\n",
       " u'Swarm': {u'ControlAvailable': False,\n",
       "  u'Error': u'',\n",
       "  u'LocalNodeState': u'inactive',\n",
       "  u'NodeAddr': u'',\n",
       "  u'NodeID': u'',\n",
       "  u'RemoteManagers': None},\n",
       " u'SystemStatus': None,\n",
       " u'SystemTime': u'2018-02-21T15:37:37.294192333Z'}"
      ]
     },
     "execution_count": 30,
     "metadata": {},
     "output_type": "execute_result"
    }
   ],
   "source": [
    "c.info()"
   ]
  },
  {
   "cell_type": "code",
   "execution_count": 46,
   "metadata": {},
   "outputs": [
    {
     "name": "stdout",
     "output_type": "stream",
     "text": [
      "running\n",
      "exited\n",
      "running\n",
      "running\n",
      "exited\n",
      "exited\n",
      "running\n"
     ]
    }
   ],
   "source": [
    "for x in c.containers.list(all=True):\n",
    "    print(x.status)"
   ]
  },
  {
   "cell_type": "code",
   "execution_count": 12,
   "metadata": {},
   "outputs": [],
   "source": [
    "cs = c.containers"
   ]
  },
  {
   "cell_type": "code",
   "execution_count": 43,
   "metadata": {},
   "outputs": [
    {
     "data": {
      "text/plain": [
       "[u'running', u'running', u'running', u'running']"
      ]
     },
     "execution_count": 43,
     "metadata": {},
     "output_type": "execute_result"
    }
   ],
   "source": [
    "[x.status for x in cs.list()]"
   ]
  },
  {
   "cell_type": "code",
   "execution_count": 44,
   "metadata": {},
   "outputs": [],
   "source": [
    "cs.list?"
   ]
  },
  {
   "cell_type": "code",
   "execution_count": 18,
   "metadata": {},
   "outputs": [
    {
     "data": {
      "text/plain": [
       "<Container: 1d5595df81>"
      ]
     },
     "execution_count": 18,
     "metadata": {},
     "output_type": "execute_result"
    }
   ],
   "source": [
    "cs.get('1d5595df81')"
   ]
  },
  {
   "cell_type": "code",
   "execution_count": 63,
   "metadata": {},
   "outputs": [],
   "source": [
    "a = x.start()"
   ]
  },
  {
   "cell_type": "code",
   "execution_count": 65,
   "metadata": {},
   "outputs": [],
   "source": [
    "y.stop()"
   ]
  },
  {
   "cell_type": "code",
   "execution_count": 66,
   "metadata": {},
   "outputs": [],
   "source": [
    "g = c.events()"
   ]
  },
  {
   "cell_type": "code",
   "execution_count": 64,
   "metadata": {},
   "outputs": [],
   "source": [
    "y = cs.list()[3]"
   ]
  },
  {
   "cell_type": "code",
   "execution_count": 37,
   "metadata": {},
   "outputs": [
    {
     "ename": "IndexError",
     "evalue": "list index out of range",
     "output_type": "error",
     "traceback": [
      "\u001b[0;31m---------------------------------------------------------------------------\u001b[0m",
      "\u001b[0;31mIndexError\u001b[0m                                Traceback (most recent call last)",
      "\u001b[0;32m<ipython-input-37-c2b8a975f01f>\u001b[0m in \u001b[0;36m<module>\u001b[0;34m()\u001b[0m\n\u001b[0;32m----> 1\u001b[0;31m \u001b[0;34m'a'\u001b[0m\u001b[0;34m.\u001b[0m\u001b[0msplit\u001b[0m\u001b[0;34m(\u001b[0m\u001b[0;34m'-'\u001b[0m\u001b[0;34m)\u001b[0m\u001b[0;34m[\u001b[0m\u001b[0;36m2\u001b[0m\u001b[0;34m]\u001b[0m\u001b[0;34m\u001b[0m\u001b[0m\n\u001b[0m",
      "\u001b[0;31mIndexError\u001b[0m: list index out of range"
     ]
    }
   ],
   "source": [
    "'a'.split('-')[2]"
   ]
  },
  {
   "cell_type": "code",
   "execution_count": 23,
   "metadata": {},
   "outputs": [
    {
     "data": {
      "text/plain": [
       "u'mightythymio_core_1'"
      ]
     },
     "execution_count": 23,
     "metadata": {},
     "output_type": "execute_result"
    }
   ],
   "source": [
    "x.name"
   ]
  },
  {
   "cell_type": "code",
   "execution_count": 25,
   "metadata": {},
   "outputs": [],
   "source": [
    "import dockerpty"
   ]
  },
  {
   "cell_type": "code",
   "execution_count": 26,
   "metadata": {},
   "outputs": [
    {
     "name": "stdout",
     "output_type": "stream",
     "text": [
      "Requirement already satisfied (use --upgrade to upgrade): docker in /usr/local/lib/python2.7/dist-packages\n",
      "Requirement already satisfied (use --upgrade to upgrade): six>=1.4.0 in /usr/lib/python2.7/dist-packages (from docker)\n",
      "Requirement already satisfied (use --upgrade to upgrade): backports.ssl-match-hostname>=3.5; python_version < \"3.5\" in /usr/local/lib/python2.7/dist-packages (from docker)\n",
      "Requirement already satisfied (use --upgrade to upgrade): ipaddress>=1.0.16; python_version < \"3.3\" in /usr/lib/python2.7/dist-packages (from docker)\n",
      "Requirement already satisfied (use --upgrade to upgrade): websocket-client>=0.32.0 in /usr/local/lib/python2.7/dist-packages (from docker)\n",
      "Requirement already satisfied (use --upgrade to upgrade): docker-pycreds>=0.2.1 in /usr/local/lib/python2.7/dist-packages (from docker)\n",
      "Requirement already satisfied (use --upgrade to upgrade): requests!=2.18.0,>=2.14.2 in /usr/local/lib/python2.7/dist-packages (from docker)\n",
      "Requirement already satisfied (use --upgrade to upgrade): chardet<3.1.0,>=3.0.2 in /usr/local/lib/python2.7/dist-packages (from requests!=2.18.0,>=2.14.2->docker)\n",
      "Requirement already satisfied (use --upgrade to upgrade): certifi>=2017.4.17 in /usr/local/lib/python2.7/dist-packages (from requests!=2.18.0,>=2.14.2->docker)\n",
      "Requirement already satisfied (use --upgrade to upgrade): urllib3<1.23,>=1.21.1 in /usr/local/lib/python2.7/dist-packages (from requests!=2.18.0,>=2.14.2->docker)\n",
      "Requirement already satisfied (use --upgrade to upgrade): idna<2.7,>=2.5 in /usr/local/lib/python2.7/dist-packages (from requests!=2.18.0,>=2.14.2->docker)\n",
      "\u001b[33mYou are using pip version 8.1.1, however version 9.0.1 is available.\n",
      "You should consider upgrading via the 'pip install --upgrade pip' command.\u001b[0m\n"
     ]
    }
   ],
   "source": [
    "!pip install docker"
   ]
  },
  {
   "cell_type": "code",
   "execution_count": null,
   "metadata": {},
   "outputs": [],
   "source": []
  }
 ],
 "metadata": {
  "kernelspec": {
   "display_name": "Python 2",
   "language": "python",
   "name": "python2"
  },
  "language_info": {
   "codemirror_mode": {
    "name": "ipython",
    "version": 2
   },
   "file_extension": ".py",
   "mimetype": "text/x-python",
   "name": "python",
   "nbconvert_exporter": "python",
   "pygments_lexer": "ipython2",
   "version": "2.7.12"
  }
 },
 "nbformat": 4,
 "nbformat_minor": 2
}
