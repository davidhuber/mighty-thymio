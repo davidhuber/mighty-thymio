{
 "cells": [
  {
   "cell_type": "markdown",
   "metadata": {},
   "source": [
    "# The Mighty Thymio: Actuators"
   ]
  },
  {
   "cell_type": "code",
   "execution_count": 2,
   "metadata": {},
   "outputs": [],
   "source": [
    "import rospy"
   ]
  },
  {
   "cell_type": "code",
   "execution_count": 3,
   "metadata": {},
   "outputs": [],
   "source": [
    "import rosnode\n",
    "import rostopic\n",
    "import rosmsg"
   ]
  },
  {
   "cell_type": "code",
   "execution_count": 23,
   "metadata": {},
   "outputs": [],
   "source": [
    "import std_msgs.msg\n",
    "import thymio_msgs.msg\n",
    "import geometry_msgs.msg"
   ]
  },
  {
   "cell_type": "code",
   "execution_count": 5,
   "metadata": {},
   "outputs": [],
   "source": [
    "rospy.init_node('notebook_actuators')"
   ]
  },
  {
   "cell_type": "code",
   "execution_count": 6,
   "metadata": {},
   "outputs": [],
   "source": [
    "def print_msg_definition(msg_type):\n",
    "    print(rosmsg.get_msg_text(msg_type))"
   ]
  },
  {
   "cell_type": "markdown",
   "metadata": {},
   "source": [
    "# [Raw] Aseba Messages\n",
    "\n",
    "Aseba message are of two types: \n",
    "    - asebaros_msgs/AsebaEvent\n",
    "    - asebaros_msgs/AsebaAnonymousEvent"
   ]
  },
  {
   "cell_type": "code",
   "execution_count": 9,
   "metadata": {},
   "outputs": [],
   "source": [
    "import asebaros_msgs.msg"
   ]
  },
  {
   "cell_type": "code",
   "execution_count": 14,
   "metadata": {},
   "outputs": [
    {
     "name": "stdout",
     "output_type": "stream",
     "text": [
      "time stamp\n",
      "uint16 source\n",
      "int16[] data\n",
      "\n"
     ]
    }
   ],
   "source": [
    "print_msg_definition('asebaros_msgs/AsebaEvent')"
   ]
  },
  {
   "cell_type": "code",
   "execution_count": 16,
   "metadata": {},
   "outputs": [],
   "source": [
    "pub = rospy.Publisher('/aseba/events/set_speed', asebaros_msgs.msg.AsebaEvent, queue_size=1)"
   ]
  },
  {
   "cell_type": "code",
   "execution_count": null,
   "metadata": {},
   "outputs": [],
   "source": [
    "pub.publish(asebaros_msgs.msg.AsebaEvent(data=[100,100], source=0, stamp=rospy.Time.now()))"
   ]
  },
  {
   "cell_type": "code",
   "execution_count": 17,
   "metadata": {},
   "outputs": [],
   "source": [
    "pub.publish(asebaros_msgs.msg.AsebaEvent(data=[0,0], source=0, stamp=rospy.Time.now()))"
   ]
  },
  {
   "cell_type": "markdown",
   "metadata": {},
   "source": [
    "# Actuators\n",
    "\n",
    "## Motors\n",
    "\n",
    "To send a velocity command to the robot, send a `geometry_msgs/Twist` message on `cmd_vel`"
   ]
  },
  {
   "cell_type": "code",
   "execution_count": 18,
   "metadata": {},
   "outputs": [
    {
     "name": "stdout",
     "output_type": "stream",
     "text": [
      "geometry_msgs/Vector3 linear\n",
      "  float64 x\n",
      "  float64 y\n",
      "  float64 z\n",
      "geometry_msgs/Vector3 angular\n",
      "  float64 x\n",
      "  float64 y\n",
      "  float64 z\n",
      "\n"
     ]
    }
   ],
   "source": [
    "print(rosmsg.get_msg_text(\"geometry_msgs/Twist\"))"
   ]
  },
  {
   "cell_type": "code",
   "execution_count": 20,
   "metadata": {},
   "outputs": [],
   "source": [
    "pub = rospy.Publisher('cmd_vel', geometry_msgs.msg.Twist, queue_size=1)\n",
    "msg = geometry_msgs.msg.Twist()"
   ]
  },
  {
   "cell_type": "code",
   "execution_count": 22,
   "metadata": {
    "scrolled": false
   },
   "outputs": [],
   "source": [
    "msg.linear.x = 0.02\n",
    "pub.publish(msg)\n",
    "rospy.sleep(1)\n",
    "msg.linear.x = 0\n",
    "pub.publish(msg)"
   ]
  },
  {
   "cell_type": "code",
   "execution_count": null,
   "metadata": {},
   "outputs": [],
   "source": [
    "## TODO /comm/transmit"
   ]
  },
  {
   "cell_type": "markdown",
   "metadata": {},
   "source": [
    "## LEDs\n",
    "\n",
    "The robot has several leds:\n",
    "    - 8 yellow [state] leds around the buttons\n",
    "    - 4 red leds near on of each button\n",
    "    - 8 red leds near the proximity sensors (6 front and 2 rear)\n",
    "    - 2 red leds near the ground sensors\n",
    "    - one violet led near the temperature sensors\n",
    "    - one blue led near the microphone\n",
    "    - one red led near the IR receiver\n",
    "    \n",
    "that can be directly set to a value between 0 (off) and 1 (full light) with a `thymio_msgs/Led` on `/led`."
   ]
  },
  {
   "cell_type": "code",
   "execution_count": 24,
   "metadata": {},
   "outputs": [
    {
     "name": "stdout",
     "output_type": "stream",
     "text": [
      "uint8 CIRCLE=0\n",
      "uint8 PROXIMITY=1\n",
      "uint8 BUTTONS=2\n",
      "uint8 GROUND=3\n",
      "uint8 TEMPERATURE=4\n",
      "uint8 MICROPHONE=5\n",
      "uint8 REMOTE=6\n",
      "float32[] values\n",
      "uint8 id\n",
      "\n"
     ]
    }
   ],
   "source": [
    "print_msg_definition('thymio_msgs/Led')"
   ]
  },
  {
   "cell_type": "code",
   "execution_count": 25,
   "metadata": {},
   "outputs": [],
   "source": [
    "pub = rospy.Publisher('led', thymio_msgs.msg.Led, queue_size=1)"
   ]
  },
  {
   "cell_type": "code",
   "execution_count": 45,
   "metadata": {},
   "outputs": [
    {
     "name": "stdout",
     "output_type": "stream",
     "text": [
      "Switch leds in CIRCLE on\n",
      "Switch leds in CIRCLE off\n",
      "Switch leds in PROXIMITY on\n",
      "Switch leds in PROXIMITY off\n",
      "Switch leds in BUTTONS on\n",
      "Switch leds in BUTTONS off\n",
      "Switch leds in GROUND on\n",
      "Switch leds in GROUND off\n",
      "Switch leds in TEMPERATURE on\n",
      "Switch leds in TEMPERATURE off\n",
      "Switch leds in MICROPHONE on\n",
      "Switch leds in MICROPHONE off\n",
      "Switch leds in REMOTE on\n",
      "Switch leds in REMOTE off\n"
     ]
    }
   ],
   "source": [
    "led_groups = ['CIRCLE', 'PROXIMITY', 'BUTTONS','GROUND','TEMPERATURE', 'MICROPHONE', 'REMOTE']\n",
    "\n",
    "for led_group in led_groups:\n",
    "    print('Switch leds in {led_group} on'.format(**locals()))\n",
    "    id_ = getattr(thymio_msgs.msg.Led, led_group)\n",
    "    pub.publish(id=id_, values=[1]*8)\n",
    "    rospy.sleep(2)\n",
    "    print('Switch leds in {led_group} off'.format(**locals()))\n",
    "    pub.publish(id=id_, values=[0]*8)\n",
    "    rospy.sleep(2)"
   ]
  },
  {
   "cell_type": "markdown",
   "metadata": {},
   "source": [
    "The robots has also three larger leds that change the RGB colors of its (translucent) plastic body\n",
    "    - /led/body/bottom_left\n",
    "    - /led/body/bottom_right\n",
    "    - /led/body/top\n",
    "with a `std_msgs/ColorRGBA` messag (the A component of the color is ignored by the robot)."
   ]
  },
  {
   "cell_type": "code",
   "execution_count": 56,
   "metadata": {},
   "outputs": [
    {
     "name": "stdout",
     "output_type": "stream",
     "text": [
      "float32 r\n",
      "float32 g\n",
      "float32 b\n",
      "float32 a\n",
      "\n"
     ]
    }
   ],
   "source": [
    "print_msg_definition('std_msgs/ColorRGBA')"
   ]
  },
  {
   "cell_type": "code",
   "execution_count": 59,
   "metadata": {},
   "outputs": [
    {
     "name": "stdout",
     "output_type": "stream",
     "text": [
      "Switch body top on\n",
      "Switch body bottom_left on\n",
      "Switch body bottom_right on\n"
     ]
    }
   ],
   "source": [
    "colors = {'bottom_left': [0.1, 0.9, 0.1],\n",
    "          'bottom_right': [1, 0.3, 0.8], \n",
    "          'top': [0.0, 0.1, 0.4]}\n",
    "\n",
    "for led, color  in colors.items():\n",
    "    pub = rospy.Publisher('led/body/{led}'.format(**locals()), std_msgs.msg.ColorRGBA, queue_size=1)\n",
    "    print('Switch body {led} on'.format(**locals()))\n",
    "    rgba = list(color) + [1]\n",
    "    pub.publish(*rgba)"
   ]
  },
  {
   "cell_type": "markdown",
   "metadata": {},
   "source": [
    "### Led animations"
   ]
  },
  {
   "cell_type": "markdown",
   "metadata": {},
   "source": [
    "The robot is also able to display animation (gestures) by sending a message `thymio_msgs/LedGesture` to `/led/gesture`, which are implemented as waves with period (in seconds) and length (in number of leds), and where\n",
    "    - mask[i] = True => the led will be set to 0,\n",
    "    - mirror = True => The wave is (spatially) mirrored, like a standing wave.\n",
    "    - leds is one of the led groups\n",
    "    - wave is either RECT (a rectified wave) or HARMONIC (a sinosoundal wave)\n",
    "    - gesture is either OFF (set off all leds) or WAVE\n",
    "\n"
   ]
  },
  {
   "cell_type": "code",
   "execution_count": 60,
   "metadata": {},
   "outputs": [
    {
     "name": "stdout",
     "output_type": "stream",
     "text": [
      "uint8 OFF=0\n",
      "uint8 WAVE=1\n",
      "uint8 RECT=0\n",
      "uint8 HARMONIC=1\n",
      "uint8 CIRCLE=0\n",
      "uint8 PROXIMITY=1\n",
      "uint8 BUTTONS=2\n",
      "uint8 gesture\n",
      "uint8 wave\n",
      "uint8 leds\n",
      "float32 period\n",
      "uint16 length\n",
      "uint8 mirror\n",
      "bool[] mask\n",
      "\n"
     ]
    }
   ],
   "source": [
    "print_msg_definition('thymio_msgs/LedGesture')"
   ]
  },
  {
   "cell_type": "code",
   "execution_count": 61,
   "metadata": {},
   "outputs": [],
   "source": [
    "pub = rospy.Publisher('led/gesture', thymio_msgs.msg.LedGesture, queue_size=1)"
   ]
  },
  {
   "cell_type": "markdown",
   "metadata": {},
   "source": [
    "#### Type of wave"
   ]
  },
  {
   "cell_type": "code",
   "execution_count": 87,
   "metadata": {},
   "outputs": [],
   "source": [
    "pub.publish(mask=[1]*8, mirror=False, length=8, period=1, leds=thymio_msgs.msg.LedGesture.CIRCLE, \n",
    "            gesture=thymio_msgs.msg.LedGesture.WAVE, wave=thymio_msgs.msg.LedGesture.RECT)\n",
    "rospy.sleep(5)\n",
    "pub.publish(mask=[1]*8, mirror=False, length=6, period=1, leds=thymio_msgs.msg.LedGesture.CIRCLE, \n",
    "            gesture=thymio_msgs.msg.LedGesture.WAVE, wave=thymio_msgs.msg.LedGesture.HARMONIC)"
   ]
  },
  {
   "cell_type": "markdown",
   "metadata": {},
   "source": [
    "#### Leds"
   ]
  },
  {
   "cell_type": "code",
   "execution_count": 88,
   "metadata": {},
   "outputs": [],
   "source": [
    "pub.publish(mask=[1]*8, mirror=False, length=6, period=1, leds=thymio_msgs.msg.LedGesture.CIRCLE, \n",
    "            gesture=thymio_msgs.msg.LedGesture.OFF, wave=thymio_msgs.msg.LedGesture.RECT)\n",
    "\n",
    "pub.publish(mask=[1]*8, mirror=False, length=6, period=1, leds=thymio_msgs.msg.LedGesture.PROXIMITY, \n",
    "            gesture=thymio_msgs.msg.LedGesture.WAVE, wave=thymio_msgs.msg.LedGesture.HARMONIC)"
   ]
  },
  {
   "cell_type": "markdown",
   "metadata": {},
   "source": [
    "### Length"
   ]
  },
  {
   "cell_type": "code",
   "execution_count": 107,
   "metadata": {},
   "outputs": [],
   "source": [
    "pub.publish(mask=[1]*8, mirror=False, length=8, period=1, leds=thymio_msgs.msg.LedGesture.CIRCLE, \n",
    "            gesture=thymio_msgs.msg.LedGesture.WAVE, wave=thymio_msgs.msg.LedGesture.HARMONIC)\n",
    "\n",
    "rospy.sleep(3)\n",
    "\n",
    "pub.publish(mask=[1]*8, mirror=False, length=4, period=1, leds=thymio_msgs.msg.LedGesture.CIRCLE, \n",
    "            gesture=thymio_msgs.msg.LedGesture.WAVE, wave=thymio_msgs.msg.LedGesture.HARMONIC)\n",
    "\n",
    "rospy.sleep(3)\n",
    "\n",
    "pub.publish(mask=[1]*8, mirror=False, length=0, period=1, leds=thymio_msgs.msg.LedGesture.CIRCLE, \n",
    "            gesture=thymio_msgs.msg.LedGesture.WAVE, wave=thymio_msgs.msg.LedGesture.HARMONIC)"
   ]
  },
  {
   "cell_type": "markdown",
   "metadata": {},
   "source": [
    "### Period"
   ]
  },
  {
   "cell_type": "code",
   "execution_count": 108,
   "metadata": {},
   "outputs": [],
   "source": [
    "pub.publish(mask=[1]*8, mirror=False, length=5, period=1, leds=thymio_msgs.msg.LedGesture.CIRCLE, \n",
    "            gesture=thymio_msgs.msg.LedGesture.WAVE, wave=thymio_msgs.msg.LedGesture.HARMONIC)\n",
    "\n",
    "rospy.sleep(3)\n",
    "\n",
    "pub.publish(mask=[1]*8, mirror=False, length=5, period=3, leds=thymio_msgs.msg.LedGesture.CIRCLE, \n",
    "            gesture=thymio_msgs.msg.LedGesture.WAVE, wave=thymio_msgs.msg.LedGesture.HARMONIC)\n",
    "\n",
    "rospy.sleep(3)\n",
    "\n",
    "pub.publish(mask=[1]*8, mirror=False, length=5, period=0.3, leds=thymio_msgs.msg.LedGesture.CIRCLE, \n",
    "            gesture=thymio_msgs.msg.LedGesture.WAVE, wave=thymio_msgs.msg.LedGesture.HARMONIC)"
   ]
  },
  {
   "cell_type": "markdown",
   "metadata": {},
   "source": [
    "### Mirror"
   ]
  },
  {
   "cell_type": "code",
   "execution_count": 113,
   "metadata": {},
   "outputs": [],
   "source": [
    "# pub.publish(mask=[1]*8, mirror=True, length=8, period=2, leds=thymio_msgs.msg.LedGesture.CIRCLE, \n",
    "#             gesture=thymio_msgs.msg.LedGesture.WAVE, wave=thymio_msgs.msg.LedGesture.HARMONIC)"
   ]
  },
  {
   "cell_type": "markdown",
   "metadata": {},
   "source": [
    "### Predefined gestures"
   ]
  },
  {
   "cell_type": "code",
   "execution_count": null,
   "metadata": {},
   "outputs": [],
   "source": [
    "There are some predefined gestures, like\n",
    "    - /led/gesture/alive\n",
    "    - /led/gesture/blink\n",
    "    - /led/gesture/circle\n",
    "    - /led/gesture/kit\n",
    "    - /led/gesture/off"
   ]
  },
  {
   "cell_type": "code",
   "execution_count": 115,
   "metadata": {},
   "outputs": [],
   "source": [
    "pub = rospy.Publisher('/led/gesture/alive', std_msgs.msg.Empty, queue_size=1)\n",
    "pub.publish()"
   ]
  },
  {
   "cell_type": "code",
   "execution_count": 118,
   "metadata": {},
   "outputs": [],
   "source": [
    "pub = rospy.Publisher('/led/gesture/blink', std_msgs.msg.Float32, queue_size=1)\n",
    "period = 0.5\n",
    "pub.publish(period)"
   ]
  },
  {
   "cell_type": "code",
   "execution_count": 121,
   "metadata": {},
   "outputs": [],
   "source": [
    "pub = rospy.Publisher('/led/gesture/circle', std_msgs.msg.Float32, queue_size=1)\n",
    "period = 2\n",
    "pub.publish(period)"
   ]
  },
  {
   "cell_type": "code",
   "execution_count": 127,
   "metadata": {},
   "outputs": [],
   "source": [
    "pub = rospy.Publisher('/led/gesture/kit', std_msgs.msg.Float32, queue_size=1)\n",
    "period = 1.8\n",
    "pub.publish(period)"
   ]
  },
  {
   "cell_type": "code",
   "execution_count": 129,
   "metadata": {},
   "outputs": [],
   "source": [
    "pub = rospy.Publisher('/led/gesture/off', std_msgs.msg.Empty, queue_size=1)\n",
    "pub.publish()"
   ]
  },
  {
   "cell_type": "markdown",
   "metadata": {},
   "source": [
    "## Sounds"
   ]
  },
  {
   "cell_type": "markdown",
   "metadata": {},
   "source": [
    "To play a sound, you can either send a `thymio_msgs/Sound` message to `sound/play`"
   ]
  },
  {
   "cell_type": "code",
   "execution_count": 131,
   "metadata": {},
   "outputs": [
    {
     "name": "stdout",
     "output_type": "stream",
     "text": [
      "duration duration\n",
      "float32 frequency\n",
      "\n"
     ]
    }
   ],
   "source": [
    "print_msg_definition('thymio_msgs/Sound')"
   ]
  },
  {
   "cell_type": "code",
   "execution_count": 155,
   "metadata": {},
   "outputs": [],
   "source": [
    "pub = rospy.Publisher('/sound/play', thymio_msgs.msg.Sound, queue_size=1)\n",
    "for _ in range(3):\n",
    "    pub.publish(duration=rospy.Duration(0.5), frequency=164.81)\n",
    "    rospy.sleep(0.6)\n",
    "pub.publish(duration=rospy.Duration(1.7), frequency=130.81)\n",
    "rospy.sleep(1.8)\n",
    "for _ in range(3):\n",
    "    pub.publish(duration=rospy.Duration(0.5), frequency=146.83)\n",
    "    rospy.sleep(0.6)\n",
    "pub.publish(duration=rospy.Duration(1.7), frequency=123.47)\n"
   ]
  },
  {
   "cell_type": "markdown",
   "metadata": {},
   "source": [
    "or you can play a prerecorded system sound on `sound/play/system`"
   ]
  },
  {
   "cell_type": "code",
   "execution_count": 156,
   "metadata": {},
   "outputs": [
    {
     "name": "stdout",
     "output_type": "stream",
     "text": [
      "int8 stop=-1\n",
      "int8 startup=0\n",
      "int8 shutdown=1\n",
      "int8 arrow_button=2\n",
      "int8 central_button=3\n",
      "int8 free_fall=4\n",
      "int8 collision=5\n",
      "int8 target_ok=6\n",
      "int8 target_detect=7\n",
      "int8 sound\n",
      "\n"
     ]
    }
   ],
   "source": [
    "print_msg_definition('thymio_msgs/SystemSound')"
   ]
  },
  {
   "cell_type": "code",
   "execution_count": 157,
   "metadata": {},
   "outputs": [],
   "source": [
    "pub = rospy.Publisher('/sound/play/system', thymio_msgs.msg.SystemSound, queue_size=1)"
   ]
  },
  {
   "cell_type": "code",
   "execution_count": 158,
   "metadata": {},
   "outputs": [],
   "source": [
    "pub.publish(sound=thymio_msgs.msg.SystemSound.central_button)"
   ]
  }
 ],
 "metadata": {
  "kernelspec": {
   "display_name": "Python 2",
   "language": "python",
   "name": "python2"
  },
  "language_info": {
   "codemirror_mode": {
    "name": "ipython",
    "version": 2
   },
   "file_extension": ".py",
   "mimetype": "text/x-python",
   "name": "python",
   "nbconvert_exporter": "python",
   "pygments_lexer": "ipython2",
   "version": "2.7.12"
  }
 },
 "nbformat": 4,
 "nbformat_minor": 2
}
