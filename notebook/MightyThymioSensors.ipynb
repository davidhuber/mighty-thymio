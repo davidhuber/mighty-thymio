{
 "cells": [
  {
   "cell_type": "markdown",
   "metadata": {},
   "source": [
    "# The Mighty Thymio: Sensors"
   ]
  },
  {
   "cell_type": "code",
   "execution_count": 1,
   "metadata": {},
   "outputs": [],
   "source": [
    "%matplotlib inline"
   ]
  },
  {
   "cell_type": "code",
   "execution_count": 2,
   "metadata": {},
   "outputs": [],
   "source": [
    "import numpy as np\n",
    "from matplotlib import pyplot as plt"
   ]
  },
  {
   "cell_type": "code",
   "execution_count": 3,
   "metadata": {},
   "outputs": [],
   "source": [
    "import rospy"
   ]
  },
  {
   "cell_type": "code",
   "execution_count": 4,
   "metadata": {},
   "outputs": [],
   "source": [
    "import rosnode\n",
    "import rostopic\n",
    "import rosmsg"
   ]
  },
  {
   "cell_type": "code",
   "execution_count": 5,
   "metadata": {},
   "outputs": [],
   "source": [
    "import std_msgs.msg\n",
    "import sensor_msgs.msg\n",
    "import nav_msgs.msg"
   ]
  },
  {
   "cell_type": "code",
   "execution_count": 6,
   "metadata": {},
   "outputs": [],
   "source": [
    "rospy.init_node('notebook')"
   ]
  },
  {
   "cell_type": "code",
   "execution_count": 18,
   "metadata": {},
   "outputs": [],
   "source": [
    "def print_msg_definition(msg_type):\n",
    "    print(rosmsg.get_msg_text(msg_type))"
   ]
  },
  {
   "cell_type": "code",
   "execution_count": 19,
   "metadata": {},
   "outputs": [],
   "source": [
    "def print_first_message(topic, msg_type, number_of_messages=1, max_size=None):\n",
    "    print(\"Let's print the first message[s]:\\n\")\n",
    "    _ns = [number_of_messages]\n",
    "    def callback(msg):\n",
    "        _ns[0] -= 1\n",
    "        if max_size:\n",
    "            fmt = '%.{0}s ...'.format(max_size)\n",
    "            print(fmt % msg)\n",
    "        else:\n",
    "             print(msg)\n",
    "        if _ns[0] == 0:\n",
    "            print('\\nand then unsubscribe.')\n",
    "            sub.unregister()\n",
    "    sub = rospy.Subscriber(topic, msg_type, callback)"
   ]
  },
  {
   "cell_type": "code",
   "execution_count": 148,
   "metadata": {},
   "outputs": [],
   "source": [
    "start_time = rospy.Time.now()"
   ]
  },
  {
   "cell_type": "code",
   "execution_count": 153,
   "metadata": {},
   "outputs": [],
   "source": [
    "dt = (rospy.Time.now() - start_time)"
   ]
  },
  {
   "cell_type": "code",
   "execution_count": 154,
   "metadata": {},
   "outputs": [
    {
     "data": {
      "text/plain": [
       "31.421600819"
      ]
     },
     "execution_count": 154,
     "metadata": {},
     "output_type": "execute_result"
    }
   ],
   "source": [
    "dt."
   ]
  },
  {
   "cell_type": "code",
   "execution_count": 158,
   "metadata": {},
   "outputs": [],
   "source": [
    "def collect_msgs(topic, msg_type, duration=1):\n",
    "    start_time = rospy.Time.now()\n",
    "    msgs = []\n",
    "    def callback(msg):\n",
    "        msgs.append(msg)        \n",
    "    sub = rospy.Subscriber(topic, msg_type, callback)\n",
    "    rospy.sleep(duration)\n",
    "    sub.unregister() \n",
    "    return msgs"
   ]
  },
  {
   "cell_type": "markdown",
   "metadata": {},
   "source": [
    "# [Raw] Aseba Messages\n",
    "\n",
    "Aseba message are of two types: \n",
    "    - asebaros_msgs/AsebaEvent \n",
    "    - asebaros_msgs/AsebaAnonymousEvent"
   ]
  },
  {
   "cell_type": "code",
   "execution_count": 20,
   "metadata": {},
   "outputs": [
    {
     "name": "stdout",
     "output_type": "stream",
     "text": [
      "\n",
      "------- asebaros_msgs/AsebaAnonymousEvent -------\n",
      "Format:\n",
      "time stamp\n",
      "uint16 source\n",
      "uint16 type\n",
      "int16[] data\n",
      "\n",
      "Topics:\n",
      "/aseba/anonymous_events\n",
      "\n",
      "------- asebaros_msgs/AsebaEvent -------\n",
      "Format:\n",
      "time stamp\n",
      "uint16 source\n",
      "int16[] data\n",
      "\n",
      "Topics:\n",
      "/aseba/events/set_speed\n",
      "/aseba/events/ground_ambient\n",
      "/aseba/events/buttons\n",
      "/aseba/events/set_led_bottom_left\n",
      "/aseba/events/ground_reflected\n",
      "/aseba/events/play_sound\n",
      "/aseba/events/sound\n",
      "/aseba/events/button_left\n",
      "/aseba/events/tap\n",
      "/aseba/events/temperature\n",
      "/aseba/events/play_system_sound\n",
      "/aseba/events/button_forward\n",
      "/aseba/events/remote\n",
      "/aseba/events/button_backward\n",
      "/aseba/events/shutdown\n",
      "/aseba/events/proximity\n",
      "/aseba/events/set_comm\n",
      "/aseba/events/comm\n",
      "/aseba/events/ground\n",
      "/aseba/events/set_led_top\n",
      "/aseba/events/set_led_bottom_right\n",
      "/aseba/events/accelerometer\n",
      "/aseba/events/set_led_gesture\n",
      "/aseba/events/set_led\n",
      "/aseba/events/set_sound_threshold\n",
      "/aseba/events/button_center\n",
      "/aseba/events/odometry\n",
      "/aseba/events/button_right\n"
     ]
    }
   ],
   "source": [
    "for msg_type in rosmsg.list_msgs('asebaros_msgs'):\n",
    "    print('\\n------- %s -------' % msg_type)\n",
    "    print('Format:\\n%s' % rosmsg.get_msg_text(msg_type))\n",
    "    print('Topics:\\n%s' % '\\n'.join(rostopic.find_by_type(msg_type)))"
   ]
  },
  {
   "cell_type": "code",
   "execution_count": 22,
   "metadata": {},
   "outputs": [
    {
     "data": {
      "text/plain": [
       "stamp: \n",
       "  secs: 1519388324\n",
       "  nsecs: 415653175\n",
       "source: 1\n",
       "data: [0, 0, 0, 0, 0, 0, 0]"
      ]
     },
     "execution_count": 22,
     "metadata": {},
     "output_type": "execute_result"
    }
   ],
   "source": [
    "import asebaros_msgs.msg\n",
    "\n",
    "rospy.wait_for_message('/aseba/events/proximity', asebaros_msgs.msg.AsebaEvent)"
   ]
  },
  {
   "cell_type": "markdown",
   "metadata": {},
   "source": [
    "# Sensors\n",
    "\n",
    "## Proximity Sensors\n",
    "\n",
    "Data from proximity sensors are of type sensor_msgs/Range"
   ]
  },
  {
   "cell_type": "code",
   "execution_count": 23,
   "metadata": {},
   "outputs": [
    {
     "name": "stdout",
     "output_type": "stream",
     "text": [
      "uint8 ULTRASOUND=0\n",
      "uint8 INFRARED=1\n",
      "std_msgs/Header header\n",
      "  uint32 seq\n",
      "  time stamp\n",
      "  string frame_id\n",
      "uint8 radiation_type\n",
      "float32 field_of_view\n",
      "float32 min_range\n",
      "float32 max_range\n",
      "float32 range\n",
      "\n"
     ]
    }
   ],
   "source": [
    "print(rosmsg.get_msg_text(\"sensor_msgs/Range\"))"
   ]
  },
  {
   "cell_type": "code",
   "execution_count": 24,
   "metadata": {
    "scrolled": false
   },
   "outputs": [
    {
     "data": {
      "text/plain": [
       "['/proximity/center_right',\n",
       " '/ground/right',\n",
       " '/ground/left',\n",
       " '/proximity/center',\n",
       " '/proximity/rear_left',\n",
       " '/proximity/left',\n",
       " '/proximity/rear_right',\n",
       " '/proximity/right',\n",
       " '/proximity/center_left']"
      ]
     },
     "execution_count": 24,
     "metadata": {},
     "output_type": "execute_result"
    }
   ],
   "source": [
    "rostopic.find_by_type('sensor_msgs/Range')"
   ]
  },
  {
   "cell_type": "markdown",
   "metadata": {},
   "source": [
    "There are 5 proximity sensor on the front\n",
    "     - `/proximity/left`,\n",
    "     - `/proximity/center_left`\n",
    "     - `/proximity/center`\n",
    "     - `/proximity/center_right`\n",
    "     - `/proximity/right`)\n",
    "2 on the back\n",
    "    - `/proximity/rear_left`\n",
    "    - `/proximity/rear_right`\n",
    "and  2 pointing down\n",
    "    - `/ground/right`\n",
    "    - `/ground/right`"
   ]
  },
  {
   "cell_type": "code",
   "execution_count": 27,
   "metadata": {
    "scrolled": true
   },
   "outputs": [
    {
     "data": {
      "text/plain": [
       "header: \n",
       "  seq: 1229\n",
       "  stamp: \n",
       "    secs: 1519388356\n",
       "    nsecs:  59273004\n",
       "  frame_id: \"proximity_center_link\"\n",
       "radiation_type: 1\n",
       "field_of_view: 0.300000011921\n",
       "min_range: 0.0215000007302\n",
       "max_range: 0.140000000596\n",
       "range: inf"
      ]
     },
     "execution_count": 27,
     "metadata": {},
     "output_type": "execute_result"
    }
   ],
   "source": [
    "rospy.wait_for_message('/proximity/center', sensor_msgs.msg.Range)"
   ]
  },
  {
   "cell_type": "markdown",
   "metadata": {},
   "source": [
    "Collect few seconds of proximity sensors:"
   ]
  },
  {
   "cell_type": "code",
   "execution_count": 173,
   "metadata": {},
   "outputs": [],
   "source": [
    "msgs = collect_msgs('/proximity/center', sensor_msgs.msg.Range, 10)"
   ]
  },
  {
   "cell_type": "code",
   "execution_count": 174,
   "metadata": {},
   "outputs": [],
   "source": [
    "data = np.array([(msg.header.stamp.to_sec(), msg.range) for msg in msgs])"
   ]
  },
  {
   "cell_type": "code",
   "execution_count": 175,
   "metadata": {},
   "outputs": [
    {
     "data": {
      "image/png": "[encoded data removed]",
      "text/plain": [
       "<matplotlib.figure.Figure at 0xa9731810>"
      ]
     },
     "metadata": {},
     "output_type": "display_data"
    }
   ],
   "source": [
    "plt.plot(data[:,0] - data[0,0], data[:,1], 'o-')\n",
    "plt.xlabel('time [s]');\n",
    "plt.ylabel('range [m]');"
   ]
  },
  {
   "cell_type": "markdown",
   "metadata": {},
   "source": [
    "## Buttons\n",
    "\n",
    "The buttons state is periodically published as an aggregate `sensor_msgs/Joy` message "
   ]
  },
  {
   "cell_type": "code",
   "execution_count": 28,
   "metadata": {},
   "outputs": [
    {
     "name": "stdout",
     "output_type": "stream",
     "text": [
      "sensor_msgs/Joy\n"
     ]
    }
   ],
   "source": [
    "print(rostopic.get_topic_type('/buttons')[0])"
   ]
  },
  {
   "cell_type": "code",
   "execution_count": 29,
   "metadata": {},
   "outputs": [
    {
     "name": "stdout",
     "output_type": "stream",
     "text": [
      "std_msgs/Header header\n",
      "  uint32 seq\n",
      "  time stamp\n",
      "  string frame_id\n",
      "float32[] axes\n",
      "int32[] buttons\n",
      "\n"
     ]
    }
   ],
   "source": [
    "print(rosmsg.get_msg_text('sensor_msgs/Joy'))"
   ]
  },
  {
   "cell_type": "code",
   "execution_count": 30,
   "metadata": {},
   "outputs": [
    {
     "data": {
      "text/plain": [
       "header: \n",
       "  seq: 1\n",
       "  stamp: \n",
       "    secs: 1519388375\n",
       "    nsecs: 980694055\n",
       "  frame_id: ''\n",
       "axes: []\n",
       "buttons: [0, 0, 0, 0, 0]"
      ]
     },
     "execution_count": 30,
     "metadata": {},
     "output_type": "execute_result"
    }
   ],
   "source": [
    "rospy.wait_for_message('buttons', sensor_msgs.msg.Joy)"
   ]
  },
  {
   "cell_type": "markdown",
   "metadata": {},
   "source": [
    "When the state of individual buttons is changed, an `std_msgs/Bool` is published:"
   ]
  },
  {
   "cell_type": "code",
   "execution_count": 31,
   "metadata": {},
   "outputs": [
    {
     "data": {
      "text/plain": [
       "[['/buttons/backward', 'std_msgs/Bool'],\n",
       " ['/buttons/right', 'std_msgs/Bool'],\n",
       " ['/buttons/left', 'std_msgs/Bool'],\n",
       " ['/buttons/forward', 'std_msgs/Bool'],\n",
       " ['/buttons/center', 'std_msgs/Bool']]"
      ]
     },
     "execution_count": 31,
     "metadata": {},
     "output_type": "execute_result"
    }
   ],
   "source": [
    "rospy.get_published_topics('/buttons')"
   ]
  },
  {
   "cell_type": "code",
   "execution_count": 36,
   "metadata": {},
   "outputs": [
    {
     "data": {
      "text/plain": [
       "(data: True, data: False)"
      ]
     },
     "execution_count": 36,
     "metadata": {},
     "output_type": "execute_result"
    }
   ],
   "source": [
    "(rospy.wait_for_message('/buttons/forward', std_msgs.msg.Bool), \n",
    " rospy.wait_for_message('/buttons/forward', std_msgs.msg.Bool))"
   ]
  },
  {
   "cell_type": "markdown",
   "metadata": {},
   "source": [
    "# Camera"
   ]
  },
  {
   "cell_type": "markdown",
   "metadata": {},
   "source": [
    "The camera driver publishes two types of topics.\n",
    "\n",
    "`/camera/camera_info` contains the informaion about the image size and the lens distortion."
   ]
  },
  {
   "cell_type": "code",
   "execution_count": 37,
   "metadata": {},
   "outputs": [
    {
     "name": "stdout",
     "output_type": "stream",
     "text": [
      "sensor_msgs/CameraInfo\n"
     ]
    }
   ],
   "source": [
    "print(rostopic.get_topic_type('/camera/camera_info')[0])"
   ]
  },
  {
   "cell_type": "code",
   "execution_count": 38,
   "metadata": {},
   "outputs": [
    {
     "name": "stdout",
     "output_type": "stream",
     "text": [
      "std_msgs/Header header\n",
      "  uint32 seq\n",
      "  time stamp\n",
      "  string frame_id\n",
      "uint32 height\n",
      "uint32 width\n",
      "string distortion_model\n",
      "float64[] D\n",
      "float64[9] K\n",
      "float64[9] R\n",
      "float64[12] P\n",
      "uint32 binning_x\n",
      "uint32 binning_y\n",
      "sensor_msgs/RegionOfInterest roi\n",
      "  uint32 x_offset\n",
      "  uint32 y_offset\n",
      "  uint32 height\n",
      "  uint32 width\n",
      "  bool do_rectify\n",
      "\n"
     ]
    }
   ],
   "source": [
    "print_msg_definition('sensor_msgs/CameraInfo')"
   ]
  },
  {
   "cell_type": "markdown",
   "metadata": {},
   "source": [
    "The other topics provide the (optionally compressed) camera images\n",
    "    `camera/image_raw[/compressed|/theora]`"
   ]
  },
  {
   "cell_type": "code",
   "execution_count": 39,
   "metadata": {},
   "outputs": [
    {
     "name": "stdout",
     "output_type": "stream",
     "text": [
      "/camera/image_raw: sensor_msgs/Image\n",
      "/camera/image_raw/compressed: sensor_msgs/CompressedImage\n",
      "/camera/image_raw/theora: theora_image_transport/Packet\n"
     ]
    }
   ],
   "source": [
    "for compr in ['', '/compressed', '/theora']:\n",
    "    topic = '/camera/image_raw%s' % compr\n",
    "    msg_type = rostopic.get_topic_type(topic)[0]\n",
    "    print('%s: %s' % (topic, msg_type))"
   ]
  },
  {
   "cell_type": "code",
   "execution_count": 40,
   "metadata": {},
   "outputs": [
    {
     "name": "stdout",
     "output_type": "stream",
     "text": [
      "std_msgs/Header header\n",
      "  uint32 seq\n",
      "  time stamp\n",
      "  string frame_id\n",
      "uint32 height\n",
      "uint32 width\n",
      "string encoding\n",
      "uint8 is_bigendian\n",
      "uint32 step\n",
      "uint8[] data\n",
      "\n"
     ]
    }
   ],
   "source": [
    "print_msg_definition('sensor_msgs/Image')"
   ]
  },
  {
   "cell_type": "code",
   "execution_count": 41,
   "metadata": {},
   "outputs": [
    {
     "name": "stdout",
     "output_type": "stream",
     "text": [
      "std_msgs/Header header\n",
      "  uint32 seq\n",
      "  time stamp\n",
      "  string frame_id\n",
      "string format\n",
      "uint8[] data\n",
      "\n"
     ]
    }
   ],
   "source": [
    "print_msg_definition('sensor_msgs/CompressedImage')"
   ]
  },
  {
   "cell_type": "code",
   "execution_count": 133,
   "metadata": {},
   "outputs": [],
   "source": [
    "data_msg = rospy.wait_for_message('/camera/image_raw', sensor_msgs.msg.Image)\n",
    "format_msg = rospy.wait_for_message('camera/camera_info', sensor_msgs.msg.CameraInfo)"
   ]
  },
  {
   "cell_type": "code",
   "execution_count": 134,
   "metadata": {},
   "outputs": [
    {
     "data": {
      "text/plain": [
       "header: \n",
       "  seq: 54868\n",
       "  stamp: \n",
       "    secs: 1519389499\n",
       "    nsecs:  31495097\n",
       "  frame_id: \"camera_link\"\n",
       "height: 480\n",
       "width: 640\n",
       "distortion_model: \"plumb_bob\"\n",
       "D: [-0.003061, 0.04469099999999999, 0.012541, -0.0008579999999999999, 0.0]\n",
       "K: [771.759661, 0.0, 334.870293, 0.0, 776.997516, 281.09781, 0.0, 0.0, 1.0]\n",
       "R: [1.0, 0.0, 0.0, 0.0, 1.0, 0.0, 0.0, 0.0, 1.0]\n",
       "P: [776.809204, 0.0, 333.889638, 0.0, 0.0, 775.952881, 284.525498, 0.0, 0.0, 0.0, 1.0, 0.0]\n",
       "binning_x: 0\n",
       "binning_y: 0\n",
       "roi: \n",
       "  x_offset: 0\n",
       "  y_offset: 0\n",
       "  height: 0\n",
       "  width: 0\n",
       "  do_rectify: False"
      ]
     },
     "execution_count": 134,
     "metadata": {},
     "output_type": "execute_result"
    }
   ],
   "source": [
    "format_msg"
   ]
  },
  {
   "cell_type": "code",
   "execution_count": 135,
   "metadata": {},
   "outputs": [],
   "source": [
    "pixels = np.fromstring(data_msg.data, dtype=np.dtype(np.uint8)).reshape(format_msg.height, format_msg.width, 3)"
   ]
  },
  {
   "cell_type": "code",
   "execution_count": 136,
   "metadata": {},
   "outputs": [
    {
     "data": {
      "text/plain": [
       "<matplotlib.image.AxesImage at 0xa9b7f750>"
      ]
     },
     "execution_count": 136,
     "metadata": {},
     "output_type": "execute_result"
    },
    {
     "data": {
      "image/png": "[encoded data removed]",
      "text/plain": [
       "<matplotlib.figure.Figure at 0xa9bad0d0>"
      ]
     },
     "metadata": {},
     "output_type": "display_data"
    }
   ],
   "source": [
    "plt.imshow(pixels)"
   ]
  },
  {
   "cell_type": "markdown",
   "metadata": {},
   "source": [
    "## (inter-robot) IR  communication\n",
    "Robots can send to neighbors small chanks of 10 bits encoded as a `std_msgs/Int16`"
   ]
  },
  {
   "cell_type": "code",
   "execution_count": 69,
   "metadata": {},
   "outputs": [
    {
     "name": "stdout",
     "output_type": "stream",
     "text": [
      "std_msgs/Int16\n"
     ]
    }
   ],
   "source": [
    "print(rostopic.get_topic_type('/comm/receive')[0])"
   ]
  },
  {
   "cell_type": "code",
   "execution_count": 68,
   "metadata": {},
   "outputs": [
    {
     "name": "stdout",
     "output_type": "stream",
     "text": [
      "Let's print the first message[s]:\n",
      "\n"
     ]
    }
   ],
   "source": [
    "# rospy.wait_for_message('/camera/image_raw', std_msgs.msg.Int16)"
   ]
  },
  {
   "cell_type": "markdown",
   "metadata": {},
   "source": [
    "## IMU"
   ]
  },
  {
   "cell_type": "code",
   "execution_count": 72,
   "metadata": {},
   "outputs": [
    {
     "name": "stdout",
     "output_type": "stream",
     "text": [
      "std_msgs/Header header\n",
      "  uint32 seq\n",
      "  time stamp\n",
      "  string frame_id\n",
      "geometry_msgs/Quaternion orientation\n",
      "  float64 x\n",
      "  float64 y\n",
      "  float64 z\n",
      "  float64 w\n",
      "float64[9] orientation_covariance\n",
      "geometry_msgs/Vector3 angular_velocity\n",
      "  float64 x\n",
      "  float64 y\n",
      "  float64 z\n",
      "float64[9] angular_velocity_covariance\n",
      "geometry_msgs/Vector3 linear_acceleration\n",
      "  float64 x\n",
      "  float64 y\n",
      "  float64 z\n",
      "float64[9] linear_acceleration_covariance\n",
      "\n"
     ]
    }
   ],
   "source": [
    "print_msg_definition('sensor_msgs/Imu')"
   ]
  },
  {
   "cell_type": "code",
   "execution_count": 137,
   "metadata": {},
   "outputs": [
    {
     "data": {
      "text/plain": [
       "header: \n",
       "  seq: 1\n",
       "  stamp: \n",
       "    secs: 1519389554\n",
       "    nsecs:  14442920\n",
       "  frame_id: \"base_link\"\n",
       "orientation: \n",
       "  x: 0.0\n",
       "  y: 0.0\n",
       "  z: 0.0\n",
       "  w: 0.0\n",
       "orientation_covariance: [-1.0, 0.0, 0.0, 0.0, 0.0, 0.0, 0.0, 0.0, 0.0]\n",
       "angular_velocity: \n",
       "  x: 0.0\n",
       "  y: 0.0\n",
       "  z: 0.0\n",
       "angular_velocity_covariance: [-1.0, 0.0, 0.0, 0.0, 0.0, 0.0, 0.0, 0.0, 0.0]\n",
       "linear_acceleration: \n",
       "  x: 0.0\n",
       "  y: -0.42652173913\n",
       "  z: 9.81\n",
       "linear_acceleration_covariance: [0.07, 0.0, 0.0, 0.0, 0.07, 0.0, 0.0, 0.0, 0.07]"
      ]
     },
     "execution_count": 137,
     "metadata": {},
     "output_type": "execute_result"
    }
   ],
   "source": [
    "rospy.wait_for_message('/imu',sensor_msgs.msg.Imu)"
   ]
  },
  {
   "cell_type": "code",
   "execution_count": null,
   "metadata": {},
   "outputs": [],
   "source": [
    "## TODO: joint_states"
   ]
  },
  {
   "cell_type": "code",
   "execution_count": 74,
   "metadata": {},
   "outputs": [
    {
     "name": "stdout",
     "output_type": "stream",
     "text": [
      "Let's print the first message[s]:\n",
      "\n"
     ]
    }
   ],
   "source": [
    "# rospy.wait_for_message('/joint_states', sensor_msgs.msg.JointState)"
   ]
  },
  {
   "cell_type": "markdown",
   "metadata": {},
   "source": [
    "# Odometry"
   ]
  },
  {
   "cell_type": "code",
   "execution_count": 80,
   "metadata": {},
   "outputs": [
    {
     "name": "stdout",
     "output_type": "stream",
     "text": [
      "std_msgs/Header header\n",
      "  uint32 seq\n",
      "  time stamp\n",
      "  string frame_id\n",
      "string child_frame_id\n",
      "geometry_msgs/PoseWithCovariance pose\n",
      "  geometry_msgs/Pose pose\n",
      "    geometry_msgs/Point position\n",
      "      float64 x\n",
      "      float64 y\n",
      "      float64 z\n",
      "    geometry_msgs/Quaternion orientation\n",
      "      float64 x\n",
      "      float64 y\n",
      "      float64 z\n",
      "      float64 w\n",
      "  float64[36] covariance\n",
      "geometry_msgs/TwistWithCovariance twist\n",
      "  geometry_msgs/Twist twist\n",
      "    geometry_msgs/Vector3 linear\n",
      "      float64 x\n",
      "      float64 y\n",
      "      float64 z\n",
      "    geometry_msgs/Vector3 angular\n",
      "      float64 x\n",
      "      float64 y\n",
      "      float64 z\n",
      "  float64[36] covariance\n",
      "\n"
     ]
    }
   ],
   "source": [
    "print_msg_definition('nav_msgs/Odometry')"
   ]
  },
  {
   "cell_type": "code",
   "execution_count": 138,
   "metadata": {},
   "outputs": [
    {
     "data": {
      "text/plain": [
       "header: \n",
       "  seq: 1\n",
       "  stamp: \n",
       "    secs: 1519389565\n",
       "    nsecs: 479753017\n",
       "  frame_id: \"odom\"\n",
       "child_frame_id: \"base_link\"\n",
       "pose: \n",
       "  pose: \n",
       "    position: \n",
       "      x: -0.537234198032\n",
       "      y: -0.164804682561\n",
       "      z: 0.0\n",
       "    orientation: \n",
       "      x: 0.0\n",
       "      y: 0.0\n",
       "      z: 0.401454892655\n",
       "      w: 0.91587879611\n",
       "  covariance: [0.0, 0.0, 0.0, 0.0, 0.0, 0.0, 0.0, 0.0, 0.0, 0.0, 0.0, 0.0, 0.0, 0.0, 0.0, 0.0, 0.0, 0.0, 0.0, 0.0, 0.0, 0.0, 0.0, 0.0, 0.0, 0.0, 0.0, 0.0, 0.0, 0.0, 0.0, 0.0, 0.0, 0.0, 0.0, 0.0]\n",
       "twist: \n",
       "  twist: \n",
       "    linear: \n",
       "      x: -0.00170648464164\n",
       "      y: 0.0\n",
       "      z: 0.0\n",
       "    angular: \n",
       "      x: 0.0\n",
       "      y: 0.0\n",
       "      z: 0.0\n",
       "  covariance: [0.0, 0.0, 0.0, 0.0, 0.0, 0.0, 0.0, 0.0, 0.0, 0.0, 0.0, 0.0, 0.0, 0.0, 0.0, 0.0, 0.0, 0.0, 0.0, 0.0, 0.0, 0.0, 0.0, 0.0, 0.0, 0.0, 0.0, 0.0, 0.0, 0.0, 0.0, 0.0, 0.0, 0.0, 0.0, 0.0]"
      ]
     },
     "execution_count": 138,
     "metadata": {},
     "output_type": "execute_result"
    }
   ],
   "source": [
    "rospy.wait_for_message('/odom', nav_msgs.msg.Odometry)"
   ]
  },
  {
   "cell_type": "code",
   "execution_count": null,
   "metadata": {},
   "outputs": [],
   "source": [
    "## TODO remote"
   ]
  },
  {
   "cell_type": "markdown",
   "metadata": {},
   "source": [
    "## TODO sound"
   ]
  },
  {
   "cell_type": "code",
   "execution_count": 139,
   "metadata": {},
   "outputs": [
    {
     "data": {
      "text/plain": [
       "data: 1.0"
      ]
     },
     "execution_count": 139,
     "metadata": {},
     "output_type": "execute_result"
    }
   ],
   "source": [
    "rospy.wait_for_message('/sound', std_msgs.msg.Float32)"
   ]
  },
  {
   "cell_type": "code",
   "execution_count": null,
   "metadata": {},
   "outputs": [],
   "source": [
    "## TODO Tap"
   ]
  },
  {
   "cell_type": "code",
   "execution_count": 140,
   "metadata": {},
   "outputs": [
    {
     "data": {
      "text/plain": []
     },
     "execution_count": 140,
     "metadata": {},
     "output_type": "execute_result"
    }
   ],
   "source": [
    "rospy.wait_for_message('/tap', std_msgs.msg.Empty)"
   ]
  },
  {
   "cell_type": "code",
   "execution_count": null,
   "metadata": {},
   "outputs": [],
   "source": [
    "#TODO temp"
   ]
  },
  {
   "cell_type": "code",
   "execution_count": 141,
   "metadata": {},
   "outputs": [
    {
     "data": {
      "text/plain": [
       "header: \n",
       "  seq: 1\n",
       "  stamp: \n",
       "    secs: 0\n",
       "    nsecs:         0\n",
       "  frame_id: \"base_link\"\n",
       "temperature: 29.3\n",
       "variance: 0.01"
      ]
     },
     "execution_count": 141,
     "metadata": {},
     "output_type": "execute_result"
    }
   ],
   "source": [
    "rospy.wait_for_message('/temperature', sensor_msgs.msg.Temperature)"
   ]
  },
  {
   "cell_type": "code",
   "execution_count": null,
   "metadata": {},
   "outputs": [],
   "source": [
    "# TODO\n",
    "\n",
    "# /ups/ac\n",
    "# /ups/battery"
   ]
  },
  {
   "cell_type": "code",
   "execution_count": 142,
   "metadata": {},
   "outputs": [
    {
     "data": {
      "text/plain": [
       "data: True"
      ]
     },
     "execution_count": 142,
     "metadata": {},
     "output_type": "execute_result"
    }
   ],
   "source": [
    "rospy.wait_for_message('/ups/ac', std_msgs.msg.Bool)"
   ]
  },
  {
   "cell_type": "code",
   "execution_count": 143,
   "metadata": {},
   "outputs": [
    {
     "data": {
      "text/plain": [
       "data: True"
      ]
     },
     "execution_count": 143,
     "metadata": {},
     "output_type": "execute_result"
    }
   ],
   "source": [
    "rospy.wait_for_message('/ups/battery', std_msgs.msg.Bool)"
   ]
  }
 ],
 "metadata": {
  "kernelspec": {
   "display_name": "Python 2",
   "language": "python",
   "name": "python2"
  },
  "language_info": {
   "codemirror_mode": {
    "name": "ipython",
    "version": 2
   },
   "file_extension": ".py",
   "mimetype": "text/x-python",
   "name": "python",
   "nbconvert_exporter": "python",
   "pygments_lexer": "ipython2",
   "version": "2.7.12"
  }
 },
 "nbformat": 4,
 "nbformat_minor": 2
}
