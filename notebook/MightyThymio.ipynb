{
 "cells": [
  {
   "cell_type": "markdown",
   "metadata": {},
   "source": [
    "# The Mighty Thymio: Welcome "
   ]
  },
  {
   "cell_type": "code",
   "execution_count": 1,
   "metadata": {},
   "outputs": [],
   "source": [
    "import rospy"
   ]
  },
  {
   "cell_type": "code",
   "execution_count": 2,
   "metadata": {},
   "outputs": [],
   "source": [
    "import rosnode\n",
    "import rostopic\n",
    "import rosmsg"
   ]
  },
  {
   "cell_type": "code",
   "execution_count": 77,
   "metadata": {},
   "outputs": [],
   "source": [
    "import std_msgs.msg\n",
    "import sensor_msgs.msg\n",
    "import nav_msgs.msg"
   ]
  },
  {
   "cell_type": "code",
   "execution_count": 4,
   "metadata": {},
   "outputs": [],
   "source": [
    "rospy.init_node('notebook')"
   ]
  },
  {
   "cell_type": "code",
   "execution_count": 30,
   "metadata": {},
   "outputs": [],
   "source": [
    "def print_msg_definition(msg_type):\n",
    "    print(rosmsg.get_msg_text(msg_type))"
   ]
  },
  {
   "cell_type": "code",
   "execution_count": 63,
   "metadata": {},
   "outputs": [],
   "source": [
    "def print_first_message(topic, msg_type, number_of_messages=1, max_size=None):\n",
    "    print(\"Let's print the first message[s]:\\n\")\n",
    "    _ns = [number_of_messages]\n",
    "    def callback(msg):\n",
    "        _ns[0] -= 1\n",
    "        if max_size:\n",
    "            fmt = '%.{0}s ...'.format(max_size)\n",
    "            print(fmt % msg)\n",
    "        else:\n",
    "             print(msg)\n",
    "        if _ns[0] == 0:\n",
    "            print('\\nand then unsubscribe.')\n",
    "            sub.unregister()\n",
    "        \n",
    "        \n",
    "    sub = rospy.Subscriber(topic, msg_type, callback)\n"
   ]
  },
  {
   "cell_type": "markdown",
   "metadata": {},
   "source": [
    "# [Raw] Aseba Messages\n",
    "\n",
    "Aseba message are of two types: \n",
    "    - asebaros_msgs/AsebaEvent \n",
    "    - asebaros_msgs/AsebaAnonymousEvent"
   ]
  },
  {
   "cell_type": "code",
   "execution_count": 13,
   "metadata": {},
   "outputs": [
    {
     "name": "stdout",
     "output_type": "stream",
     "text": [
      "\n",
      "------- asebaros_msgs/AsebaAnonymousEvent -------\n",
      "Format:\n",
      "time stamp\n",
      "uint16 source\n",
      "uint16 type\n",
      "int16[] data\n",
      "\n",
      "Topics:\n",
      "/aseba/anonymous_events\n",
      "\n",
      "------- asebaros_msgs/AsebaEvent -------\n",
      "Format:\n",
      "time stamp\n",
      "uint16 source\n",
      "int16[] data\n",
      "\n",
      "Topics:\n",
      "/aseba/events/set_speed\n",
      "/aseba/events/ground_ambient\n",
      "/aseba/events/buttons\n",
      "/aseba/events/set_led_bottom_left\n",
      "/aseba/events/ground_reflected\n",
      "/aseba/events/play_sound\n",
      "/aseba/events/sound\n",
      "/aseba/events/button_left\n",
      "/aseba/events/tap\n",
      "/aseba/events/button_right\n",
      "/aseba/events/temperature\n",
      "/aseba/events/play_system_sound\n",
      "/aseba/events/button_forward\n",
      "/aseba/events/remote\n",
      "/aseba/events/button_backward\n",
      "/aseba/events/shutdown\n",
      "/aseba/events/proximity\n",
      "/aseba/events/set_comm\n",
      "/aseba/events/comm\n",
      "/aseba/events/ground\n",
      "/aseba/events/set_led_top\n",
      "/aseba/events/set_led_bottom_right\n",
      "/aseba/events/accelerometer\n",
      "/aseba/events/set_led_gesture\n",
      "/aseba/events/set_led\n",
      "/aseba/events/set_sound_threshold\n",
      "/aseba/events/button_center\n",
      "/aseba/events/odometry\n"
     ]
    }
   ],
   "source": [
    "for msg_type in rosmsg.list_msgs('asebaros_msgs'):\n",
    "    print('\\n------- %s -------' % msg_type)\n",
    "    print('Format:\\n%s' % rosmsg.get_msg_text(msg_type))\n",
    "    print('Topics:\\n%s' % '\\n'.join(rostopic.find_by_type(msg_type)))"
   ]
  },
  {
   "cell_type": "code",
   "execution_count": 14,
   "metadata": {},
   "outputs": [
    {
     "name": "stdout",
     "output_type": "stream",
     "text": [
      "Let's print the first message[s]:\n",
      "\n",
      "stamp: \n",
      "  secs: 1519316764\n",
      "  nsecs: 558772005\n",
      "source: 1\n",
      "data: [0, 0, 0, 0, 0, 0, 0]\n",
      "\n",
      "and then unsubscribe.\n"
     ]
    }
   ],
   "source": [
    "import asebaros_msgs.msg\n",
    "\n",
    "print_first_message('/aseba/events/proximity', asebaros_msgs.msg.AsebaEvent)"
   ]
  },
  {
   "cell_type": "markdown",
   "metadata": {},
   "source": [
    "# Sensors\n",
    "\n",
    "## Proximity Sensors\n",
    "\n",
    "Data from proximity sensors are of type sensor_msgs/Range"
   ]
  },
  {
   "cell_type": "code",
   "execution_count": 15,
   "metadata": {},
   "outputs": [
    {
     "name": "stdout",
     "output_type": "stream",
     "text": [
      "uint8 ULTRASOUND=0\n",
      "uint8 INFRARED=1\n",
      "std_msgs/Header header\n",
      "  uint32 seq\n",
      "  time stamp\n",
      "  string frame_id\n",
      "uint8 radiation_type\n",
      "float32 field_of_view\n",
      "float32 min_range\n",
      "float32 max_range\n",
      "float32 range\n",
      "\n"
     ]
    }
   ],
   "source": [
    "print(rosmsg.get_msg_text(\"sensor_msgs/Range\"))"
   ]
  },
  {
   "cell_type": "code",
   "execution_count": 16,
   "metadata": {
    "scrolled": false
   },
   "outputs": [
    {
     "data": {
      "text/plain": [
       "['/proximity/center_right',\n",
       " '/ground/right',\n",
       " '/ground/left',\n",
       " '/proximity/center',\n",
       " '/proximity/rear_left',\n",
       " '/proximity/left',\n",
       " '/proximity/rear_right',\n",
       " '/proximity/right',\n",
       " '/proximity/center_left']"
      ]
     },
     "execution_count": 16,
     "metadata": {},
     "output_type": "execute_result"
    }
   ],
   "source": [
    "rostopic.find_by_type('sensor_msgs/Range')"
   ]
  },
  {
   "cell_type": "markdown",
   "metadata": {},
   "source": [
    "There are 5 proximity sensor on the front\n",
    "     - `/proximity/left`,\n",
    "     - `/proximity/center_left`\n",
    "     - `/proximity/center`\n",
    "     - `/proximity/center_right`\n",
    "     - `/proximity/right`)\n",
    "2 on the back\n",
    "    - `/proximity/rear_left`\n",
    "    - `/proximity/rear_right`\n",
    "and  2 pointing down\n",
    "    - `/ground/right`\n",
    "    - `/ground/right`"
   ]
  },
  {
   "cell_type": "code",
   "execution_count": 17,
   "metadata": {
    "scrolled": true
   },
   "outputs": [
    {
     "name": "stdout",
     "output_type": "stream",
     "text": [
      "Let's print the first message[s]:\n",
      "\n",
      "header: \n",
      "  seq: 8\n",
      "  stamp: \n",
      "    secs: 1519316776\n",
      "    nsecs: 233592033\n",
      "  frame_id: \"proximity_center_link\"\n",
      "radiation_type: 1\n",
      "field_of_view: 0.300000011921\n",
      "min_range: 0.0215000007302\n",
      "max_range: 0.140000000596\n",
      "range: inf\n",
      "\n",
      "and then unsubscribe.\n"
     ]
    }
   ],
   "source": [
    "import sensor_msgs.msg\n",
    "\n",
    "print_first_message('/proximity/center', sensor_msgs.msg.Range)"
   ]
  },
  {
   "cell_type": "markdown",
   "metadata": {},
   "source": [
    "## Proximity Sensors\n",
    "Data from the microphone is of type "
   ]
  },
  {
   "cell_type": "markdown",
   "metadata": {},
   "source": [
    "## Buttons\n",
    "\n",
    "The buttons state is periodically published as an aggregate `sensor_msgs/Joy` message "
   ]
  },
  {
   "cell_type": "code",
   "execution_count": 18,
   "metadata": {},
   "outputs": [
    {
     "name": "stdout",
     "output_type": "stream",
     "text": [
      "sensor_msgs/Joy\n"
     ]
    }
   ],
   "source": [
    "print(rostopic.get_topic_type('/buttons')[0])"
   ]
  },
  {
   "cell_type": "code",
   "execution_count": 19,
   "metadata": {},
   "outputs": [
    {
     "name": "stdout",
     "output_type": "stream",
     "text": [
      "std_msgs/Header header\n",
      "  uint32 seq\n",
      "  time stamp\n",
      "  string frame_id\n",
      "float32[] axes\n",
      "int32[] buttons\n",
      "\n"
     ]
    }
   ],
   "source": [
    "print(rosmsg.get_msg_text('sensor_msgs/Joy'))"
   ]
  },
  {
   "cell_type": "code",
   "execution_count": 20,
   "metadata": {},
   "outputs": [
    {
     "name": "stdout",
     "output_type": "stream",
     "text": [
      "Let's print the first message[s]:\n",
      "\n",
      "header: \n",
      "  seq: 7\n",
      "  stamp: \n",
      "    secs: 1519316788\n",
      "    nsecs: 919080972\n",
      "  frame_id: ''\n",
      "axes: []\n",
      "buttons: [0, 0, 0, 0, 0]\n",
      "\n",
      "and then unsubscribe.\n"
     ]
    }
   ],
   "source": [
    "print_first_message('buttons', sensor_msgs.msg.Joy)"
   ]
  },
  {
   "cell_type": "markdown",
   "metadata": {},
   "source": [
    "When the state of individual buttons is changed, an `std_msgs/Bool` is published:"
   ]
  },
  {
   "cell_type": "code",
   "execution_count": 21,
   "metadata": {},
   "outputs": [
    {
     "data": {
      "text/plain": [
       "[['/buttons/backward', 'std_msgs/Bool'],\n",
       " ['/buttons/right', 'std_msgs/Bool'],\n",
       " ['/buttons/left', 'std_msgs/Bool'],\n",
       " ['/buttons/forward', 'std_msgs/Bool'],\n",
       " ['/buttons/center', 'std_msgs/Bool']]"
      ]
     },
     "execution_count": 21,
     "metadata": {},
     "output_type": "execute_result"
    }
   ],
   "source": [
    "rospy.get_published_topics('/buttons')"
   ]
  },
  {
   "cell_type": "code",
   "execution_count": 22,
   "metadata": {},
   "outputs": [
    {
     "name": "stdout",
     "output_type": "stream",
     "text": [
      "Let's print the first message[s]:\n",
      "\n",
      "data: True\n",
      "data: False\n",
      "\n",
      "and then unsubscribe.\n"
     ]
    }
   ],
   "source": [
    "print_first_message('/buttons/forward', std_msgs.msg.Bool, number_of_messages=2)"
   ]
  },
  {
   "cell_type": "markdown",
   "metadata": {},
   "source": [
    "# Camera"
   ]
  },
  {
   "cell_type": "markdown",
   "metadata": {},
   "source": [
    "The camera driver publishes two types of topics.\n",
    "\n",
    "`/camera/camera_info` contains the informaion about the image size and the lens distortion."
   ]
  },
  {
   "cell_type": "code",
   "execution_count": 28,
   "metadata": {},
   "outputs": [
    {
     "name": "stdout",
     "output_type": "stream",
     "text": [
      "sensor_msgs/CameraInfo\n"
     ]
    }
   ],
   "source": [
    "print(rostopic.get_topic_type('/camera/camera_info')[0])"
   ]
  },
  {
   "cell_type": "code",
   "execution_count": 31,
   "metadata": {},
   "outputs": [
    {
     "name": "stdout",
     "output_type": "stream",
     "text": [
      "std_msgs/Header header\n",
      "  uint32 seq\n",
      "  time stamp\n",
      "  string frame_id\n",
      "uint32 height\n",
      "uint32 width\n",
      "string distortion_model\n",
      "float64[] D\n",
      "float64[9] K\n",
      "float64[9] R\n",
      "float64[12] P\n",
      "uint32 binning_x\n",
      "uint32 binning_y\n",
      "sensor_msgs/RegionOfInterest roi\n",
      "  uint32 x_offset\n",
      "  uint32 y_offset\n",
      "  uint32 height\n",
      "  uint32 width\n",
      "  bool do_rectify\n",
      "\n"
     ]
    }
   ],
   "source": [
    "print_msg_definition('sensor_msgs/CameraInfo')"
   ]
  },
  {
   "cell_type": "markdown",
   "metadata": {},
   "source": [
    "The other topics provide the (optionally compressed) camera images\n",
    "    `camera/image_raw[/compressed|/theora]`"
   ]
  },
  {
   "cell_type": "code",
   "execution_count": 35,
   "metadata": {},
   "outputs": [
    {
     "name": "stdout",
     "output_type": "stream",
     "text": [
      "/camera/image_raw: sensor_msgs/Image\n",
      "/camera/image_raw/compressed: sensor_msgs/CompressedImage\n",
      "/camera/image_raw/theora: theora_image_transport/Packet\n"
     ]
    }
   ],
   "source": [
    "for compr in ['', '/compressed', '/theora']:\n",
    "    topic = '/camera/image_raw%s' % compr\n",
    "    msg_type = rostopic.get_topic_type(topic)[0]\n",
    "    print('%s: %s' % (topic, msg_type))"
   ]
  },
  {
   "cell_type": "code",
   "execution_count": 36,
   "metadata": {},
   "outputs": [
    {
     "name": "stdout",
     "output_type": "stream",
     "text": [
      "std_msgs/Header header\n",
      "  uint32 seq\n",
      "  time stamp\n",
      "  string frame_id\n",
      "uint32 height\n",
      "uint32 width\n",
      "string encoding\n",
      "uint8 is_bigendian\n",
      "uint32 step\n",
      "uint8[] data\n",
      "\n"
     ]
    }
   ],
   "source": [
    "print_msg_definition('sensor_msgs/Image')"
   ]
  },
  {
   "cell_type": "code",
   "execution_count": 37,
   "metadata": {},
   "outputs": [
    {
     "name": "stdout",
     "output_type": "stream",
     "text": [
      "std_msgs/Header header\n",
      "  uint32 seq\n",
      "  time stamp\n",
      "  string frame_id\n",
      "string format\n",
      "uint8[] data\n",
      "\n"
     ]
    }
   ],
   "source": [
    "print_msg_definition('sensor_msgs/CompressedImage')"
   ]
  },
  {
   "cell_type": "code",
   "execution_count": 64,
   "metadata": {},
   "outputs": [
    {
     "name": "stdout",
     "output_type": "stream",
     "text": [
      "Let's print the first message[s]:\n",
      "\n",
      "header: \n",
      "  seq: 1014\n",
      "  stamp: \n",
      "    secs: 1519317736\n",
      "    nsecs: 850014857\n",
      "  frame_id: \"camera_link\"\n",
      "height: 480\n",
      "width: 640\n",
      "encoding: \"rgb8\"\n",
      "is_bigendian: 0\n",
      "step: 1920\n",
      "data: [74, 54, 0, 73, 53, 0, 68, 45, 2, 66, 43, 0, 70, 44, 20, 71, 45, 21, 69, 44, 24, 69, 44, 24, 70, 44, 18, 70, 44, 18, 68, 44, 10, 62, 38, 4, 60, 39, 0, 60, 39, 0, 60, 42, 0, 58, 40, 0, 62, 43, 3, 47, 28, 0, 30, 10, 0, 43, 23, 0, 41, 23, 0, 41, 23, 0, 37, 24, 0, 35, 22, 0, 30, 22, 0, 25, 17, 0, 16, 13, 0, 9, 6, 0, 0, 0, 2, 1, 1, 3, 0, 1, 7, 0, 1, 7, 1, 0, 9, 1, 0, 9, 1, 0, 9, 1, 0, 9, 1, 0, 9, 1, 0, 9, 1, 0, 9, 1, 0, 9, 1, 0, 9, 1, 0, 9, 1, 0, 9, 1, 0, 9, 1, 0, 9, 1, 0, 9, 1, 0, 9, 1, 0, 9, 1, 0, 9, 1, 0, 9, 1, 0, 9, 1, 0, 9, 1, 0, 9, 1, 0, 9, 1, 0, 9, 1, 0, 9, 1, 0, 9, 1, 0, 9, 1, 0, 9, 1, 0, 9, 1, 0, 9, 1, 0, 9, 1, 0, 9, 1, 0, 9, 1, 0, 9, 1, 0, 9, 1, 0, 9, 1, 0, 9, 1, 0, 9, 1, 0, 9, 1, 0, 9, 1, 0, 9, 1, 0, 9, 1, 0, 9, 1, 0, 9, 1, 0, 9, 1, 0, 9, 1, 0, 9, 1, 0, 9, 1, 0, 9, 1, 0, 9, 1, 0, 9, 1, 0, 9, 1, 0, 9, 1, 0, 9, 1 ...\n",
      "\n",
      "and then unsubscribe.\n"
     ]
    }
   ],
   "source": [
    "print_first_message('/camera/image_raw', sensor_msgs.msg.Image, max_size=1000)"
   ]
  },
  {
   "cell_type": "markdown",
   "metadata": {},
   "source": [
    "## (inter-robot) IR  communication\n",
    "Robots can send to neighbors small chanks of 10 bits encoded as a `std_msgs/Int16`"
   ]
  },
  {
   "cell_type": "code",
   "execution_count": 69,
   "metadata": {},
   "outputs": [
    {
     "name": "stdout",
     "output_type": "stream",
     "text": [
      "std_msgs/Int16\n"
     ]
    }
   ],
   "source": [
    "print(rostopic.get_topic_type('/comm/receive')[0])"
   ]
  },
  {
   "cell_type": "code",
   "execution_count": 68,
   "metadata": {},
   "outputs": [
    {
     "name": "stdout",
     "output_type": "stream",
     "text": [
      "Let's print the first message[s]:\n",
      "\n"
     ]
    }
   ],
   "source": [
    "# print_first_message('/camera/image_raw', std_msgs.msg.Int16)"
   ]
  },
  {
   "cell_type": "markdown",
   "metadata": {},
   "source": [
    "## IMU"
   ]
  },
  {
   "cell_type": "code",
   "execution_count": 72,
   "metadata": {},
   "outputs": [
    {
     "name": "stdout",
     "output_type": "stream",
     "text": [
      "std_msgs/Header header\n",
      "  uint32 seq\n",
      "  time stamp\n",
      "  string frame_id\n",
      "geometry_msgs/Quaternion orientation\n",
      "  float64 x\n",
      "  float64 y\n",
      "  float64 z\n",
      "  float64 w\n",
      "float64[9] orientation_covariance\n",
      "geometry_msgs/Vector3 angular_velocity\n",
      "  float64 x\n",
      "  float64 y\n",
      "  float64 z\n",
      "float64[9] angular_velocity_covariance\n",
      "geometry_msgs/Vector3 linear_acceleration\n",
      "  float64 x\n",
      "  float64 y\n",
      "  float64 z\n",
      "float64[9] linear_acceleration_covariance\n",
      "\n"
     ]
    }
   ],
   "source": [
    "print_msg_definition('sensor_msgs/Imu')"
   ]
  },
  {
   "cell_type": "code",
   "execution_count": 71,
   "metadata": {},
   "outputs": [
    {
     "name": "stdout",
     "output_type": "stream",
     "text": [
      "Let's print the first message[s]:\n",
      "\n",
      "header: \n",
      "  seq: 1\n",
      "  stamp: \n",
      "    secs: 1519318057\n",
      "    nsecs: 188226938\n",
      "  frame_id: \"base_link\"\n",
      "orientation: \n",
      "  x: 0.0\n",
      "  y: 0.0\n",
      "  z: 0.0\n",
      "  w: 0.0\n",
      "orientation_covariance: [-1.0, 0.0, 0.0, 0.0, 0.0, 0.0, 0.0, 0.0, 0.0]\n",
      "angular_velocity: \n",
      "  x: 0.0\n",
      "  y: 0.0\n",
      "  z: 0.0\n",
      "angular_velocity_covariance: [-1.0, 0.0, 0.0, 0.0, 0.0, 0.0, 0.0, 0.0, 0.0]\n",
      "linear_acceleration: \n",
      "  x: 0.853043478261\n",
      "  y: 0.0\n",
      "  z: 9.38347826087\n",
      "linear_acceleration_covariance: [0.07, 0.0, 0.0, 0.0, 0.07, 0.0, 0.0, 0.0, 0.07]\n",
      "\n",
      "and then unsubscribe.\n"
     ]
    }
   ],
   "source": [
    "print_first_message('/imu',sensor_msgs.msg.Imu)"
   ]
  },
  {
   "cell_type": "code",
   "execution_count": null,
   "metadata": {},
   "outputs": [],
   "source": [
    "## TODO: joint_states"
   ]
  },
  {
   "cell_type": "code",
   "execution_count": 74,
   "metadata": {},
   "outputs": [
    {
     "name": "stdout",
     "output_type": "stream",
     "text": [
      "Let's print the first message[s]:\n",
      "\n"
     ]
    }
   ],
   "source": [
    "# print_first_message('/joint_states', sensor_msgs.msg.JointState)"
   ]
  },
  {
   "cell_type": "markdown",
   "metadata": {},
   "source": [
    "# Odometry"
   ]
  },
  {
   "cell_type": "code",
   "execution_count": 80,
   "metadata": {},
   "outputs": [
    {
     "name": "stdout",
     "output_type": "stream",
     "text": [
      "std_msgs/Header header\n",
      "  uint32 seq\n",
      "  time stamp\n",
      "  string frame_id\n",
      "string child_frame_id\n",
      "geometry_msgs/PoseWithCovariance pose\n",
      "  geometry_msgs/Pose pose\n",
      "    geometry_msgs/Point position\n",
      "      float64 x\n",
      "      float64 y\n",
      "      float64 z\n",
      "    geometry_msgs/Quaternion orientation\n",
      "      float64 x\n",
      "      float64 y\n",
      "      float64 z\n",
      "      float64 w\n",
      "  float64[36] covariance\n",
      "geometry_msgs/TwistWithCovariance twist\n",
      "  geometry_msgs/Twist twist\n",
      "    geometry_msgs/Vector3 linear\n",
      "      float64 x\n",
      "      float64 y\n",
      "      float64 z\n",
      "    geometry_msgs/Vector3 angular\n",
      "      float64 x\n",
      "      float64 y\n",
      "      float64 z\n",
      "  float64[36] covariance\n",
      "\n"
     ]
    }
   ],
   "source": [
    "print_msg_definition('nav_msgs/Odometry')"
   ]
  },
  {
   "cell_type": "code",
   "execution_count": 79,
   "metadata": {},
   "outputs": [
    {
     "name": "stdout",
     "output_type": "stream",
     "text": [
      "Let's print the first message[s]:\n",
      "\n",
      "header: \n",
      "  seq: 1\n",
      "  stamp: \n",
      "    secs: 1519318234\n",
      "    nsecs: 568774938\n",
      "  frame_id: \"odom\"\n",
      "child_frame_id: \"base_link\"\n",
      "pose: \n",
      "  pose: \n",
      "    position: \n",
      "      x: -0.473507056934\n",
      "      y: -0.739992350704\n",
      "      z: 0.0\n",
      "    orientation: \n",
      "      x: 0.0\n",
      "      y: 0.0\n",
      "      z: 0.404883710728\n",
      "      w: -0.914368186666\n",
      "  covariance: [0.0, 0.0, 0.0, 0.0, 0.0, 0.0, 0.0, 0.0, 0.0, 0.0, 0.0, 0.0, 0.0, 0.0, 0.0, 0.0, 0.0, 0.0, 0.0, 0.0, 0.0, 0.0, 0.0, 0.0, 0.0, 0.0, 0.0, 0.0, 0.0, 0.0, 0.0, 0.0, 0.0, 0.0, 0.0, 0.0]\n",
      "twist: \n",
      "  twist: \n",
      "    linear: \n",
      "      x: 0.000511945392491\n",
      "      y: 0.0\n",
      "      z: 0.0\n",
      "    angular: \n",
      "      x: 0.0\n",
      "      y: 0.0\n",
      "      z: 0.0107777977367\n",
      "  covariance: [0.0, 0.0, 0.0, 0.0, 0.0, 0.0, 0.0, 0.0, 0.0, 0.0, 0.0, 0.0, 0.0, 0.0, 0.0, 0.0, 0.0, 0.0, 0.0, 0.0, 0.0, 0.0, 0.0, 0.0, 0.0, 0.0, 0.0, 0.0, 0.0, 0.0, 0.0, 0.0, 0.0, 0.0, 0.0, 0.0]\n",
      "\n",
      "and then unsubscribe.\n"
     ]
    }
   ],
   "source": [
    "print_first_message('/odom', nav_msgs.msg.Odometry)"
   ]
  },
  {
   "cell_type": "code",
   "execution_count": null,
   "metadata": {},
   "outputs": [],
   "source": [
    "## TODO remote"
   ]
  },
  {
   "cell_type": "markdown",
   "metadata": {},
   "source": [
    "## TODO sound"
   ]
  },
  {
   "cell_type": "code",
   "execution_count": 83,
   "metadata": {},
   "outputs": [
    {
     "name": "stdout",
     "output_type": "stream",
     "text": [
      "Let's print the first message[s]:\n",
      "\n",
      "data: 0.145098045468\n",
      "\n",
      "and then unsubscribe.\n"
     ]
    }
   ],
   "source": [
    "print_first_message('/sound', std_msgs.msg.Float32)"
   ]
  },
  {
   "cell_type": "code",
   "execution_count": null,
   "metadata": {},
   "outputs": [],
   "source": [
    "## TODO Tap"
   ]
  },
  {
   "cell_type": "code",
   "execution_count": 84,
   "metadata": {},
   "outputs": [
    {
     "name": "stdout",
     "output_type": "stream",
     "text": [
      "Let's print the first message[s]:\n",
      "\n",
      "\n",
      "\n",
      "and then unsubscribe.\n"
     ]
    }
   ],
   "source": [
    "print_first_message('/tap', std_msgs.msg.Empty)"
   ]
  },
  {
   "cell_type": "code",
   "execution_count": null,
   "metadata": {},
   "outputs": [],
   "source": [
    "#TODO temp"
   ]
  },
  {
   "cell_type": "code",
   "execution_count": 86,
   "metadata": {},
   "outputs": [
    {
     "name": "stdout",
     "output_type": "stream",
     "text": [
      "Let's print the first message[s]:\n",
      "\n",
      "header: \n",
      "  seq: 4\n",
      "  stamp: \n",
      "    secs: 0\n",
      "    nsecs:         0\n",
      "  frame_id: \"base_link\"\n",
      "temperature: 31.1\n",
      "variance: 0.01\n",
      "\n",
      "and then unsubscribe.\n"
     ]
    }
   ],
   "source": [
    "print_first_message('/temperature', sensor_msgs.msg.Temperature)"
   ]
  },
  {
   "cell_type": "code",
   "execution_count": null,
   "metadata": {},
   "outputs": [],
   "source": [
    "# TODO\n",
    "\n",
    "# /ups/ac\n",
    "# /ups/battery"
   ]
  },
  {
   "cell_type": "code",
   "execution_count": 87,
   "metadata": {},
   "outputs": [
    {
     "name": "stdout",
     "output_type": "stream",
     "text": [
      "Let's print the first message[s]:\n",
      "\n",
      "data: True\n",
      "\n",
      "and then unsubscribe.\n"
     ]
    }
   ],
   "source": [
    "print_first_message('/ups/ac', std_msgs.msg.Bool)"
   ]
  },
  {
   "cell_type": "code",
   "execution_count": 88,
   "metadata": {},
   "outputs": [
    {
     "name": "stdout",
     "output_type": "stream",
     "text": [
      "Let's print the first message[s]:\n",
      "\n",
      "data: True\n",
      "\n",
      "and then unsubscribe.\n"
     ]
    }
   ],
   "source": [
    "print_first_message('/ups/battery', std_msgs.msg.Bool)"
   ]
  },
  {
   "cell_type": "code",
   "execution_count": null,
   "metadata": {},
   "outputs": [],
   "source": []
  }
 ],
 "metadata": {
  "kernelspec": {
   "display_name": "Python 2",
   "language": "python",
   "name": "python2"
  },
  "language_info": {
   "codemirror_mode": {
    "name": "ipython",
    "version": 2
   },
   "file_extension": ".py",
   "mimetype": "text/x-python",
   "name": "python",
   "nbconvert_exporter": "python",
   "pygments_lexer": "ipython2",
   "version": "2.7.12"
  }
 },
 "nbformat": 4,
 "nbformat_minor": 2
}
